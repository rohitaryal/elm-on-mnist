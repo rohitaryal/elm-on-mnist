{
  "cells": [
    {
      "cell_type": "markdown",
      "metadata": {
        "id": "view-in-github",
        "colab_type": "text"
      },
      "source": [
        "<a href=\"https://colab.research.google.com/github/rohitaryal/elm-on-mnist/blob/main/ELM_on_MNIST_dataset.ipynb\" target=\"_parent\"><img src=\"https://colab.research.google.com/assets/colab-badge.svg\" alt=\"Open In Colab\"/></a>"
      ]
    },
    {
      "cell_type": "code",
      "execution_count": 173,
      "metadata": {
        "id": "YCUOUCTK4Zwq"
      },
      "outputs": [],
      "source": [
        "!rm -rf *"
      ]
    },
    {
      "cell_type": "code",
      "execution_count": 174,
      "metadata": {
        "colab": {
          "base_uri": "https://localhost:8080/"
        },
        "id": "VruDMQQbvD6Q",
        "outputId": "a85e71f8-a60f-4b77-b4cb-330b389bf327"
      },
      "outputs": [
        {
          "output_type": "stream",
          "name": "stderr",
          "text": [
            "  % Total    % Received % Xferd  Average Speed   Time    Time     Time  Current\n",
            "                                 Dload  Upload   Total   Spent    Left  Speed\n",
            "\r  0     0    0     0    0     0      0      0 --:--:-- --:--:-- --:--:--     0\r  0     0    0     0    0     0      0      0 --:--:-- --:--:-- --:--:--     0\r  0     0    0     0    0     0      0      0 --:--:-- --:--:-- --:--:--     0\n",
            "\r100 22.0M  100 22.0M    0     0  47.4M      0 --:--:-- --:--:-- --:--:-- 47.4M\n"
          ]
        }
      ],
      "source": [
        "%%bash\n",
        "curl -L -o mnist.zip https://www.kaggle.com/api/v1/datasets/download/hojjatk/mnist-dataset\n",
        "\n",
        "# -q Quiet\n",
        "# -d Destination directory\n",
        "unzip -q mnist.zip -d mnist/\n",
        "\n",
        "# remove redundant directory\n",
        "cd mnist && rm -r t10k-images-idx3-ubyte t10k-labels-idx1-ubyte train-images-idx3-ubyte train-labels-idx1-ubyte"
      ]
    },
    {
      "cell_type": "code",
      "execution_count": 175,
      "metadata": {
        "colab": {
          "base_uri": "https://localhost:8080/"
        },
        "id": "oedIqmilNVjK",
        "outputId": "adbff444-dc49-41c8-8382-64808f47e2d3"
      },
      "outputs": [
        {
          "output_type": "stream",
          "name": "stdout",
          "text": [
            "t10k-images.idx3-ubyte\ttrain-images.idx3-ubyte\n",
            "t10k-labels.idx1-ubyte\ttrain-labels.idx1-ubyte\n"
          ]
        }
      ],
      "source": [
        "!ls mnist"
      ]
    },
    {
      "cell_type": "code",
      "execution_count": 176,
      "metadata": {
        "id": "MMlOcb9Dxdwb"
      },
      "outputs": [],
      "source": [
        "import struct\n",
        "import cupy as np\n",
        "\n",
        "# training images\n",
        "with open(\"mnist/train-images.idx3-ubyte\", 'rb') as image_file:\n",
        "    magic_byte, image_count, rows, cols = struct.unpack(\">IIII\", image_file.read(16))\n",
        "    image_array = np.fromfile(image_file, dtype=np.uint8).reshape(image_count, rows * cols) / 255.0\n",
        "\n",
        "# labels for corresponding training labels\n",
        "with open(\"mnist/train-labels.idx1-ubyte\", 'rb') as label_file:\n",
        "    magic_byte, label_count = struct.unpack(\">II\", label_file.read(8))\n",
        "    label_array = np.fromfile(label_file, dtype=np.uint8)\n",
        "\n",
        "# testing images\n",
        "with open(\"mnist/t10k-images.idx3-ubyte\", 'rb') as train_image_file:\n",
        "    magic_byte, image_count, rows, cols = struct.unpack(\">IIII\", train_image_file.read(16))\n",
        "    test_image_array = np.fromfile(train_image_file, dtype=np.uint8).reshape(image_count, rows * cols) / 255.0\n",
        "\n",
        "# labels for corresponding testing images\n",
        "with open(\"mnist/t10k-labels.idx1-ubyte\", 'rb') as train_label_file:\n",
        "    magic_byte, label_count = struct.unpack(\">II\", train_label_file.read(8))\n",
        "    test_label_array = np.fromfile(train_label_file, dtype=np.uint8)"
      ]
    },
    {
      "cell_type": "code",
      "execution_count": 177,
      "metadata": {
        "colab": {
          "base_uri": "https://localhost:8080/",
          "height": 112
        },
        "id": "AFg5hew8a4_s",
        "outputId": "20d8fcc6-ace7-46ca-d7aa-262e374d7412"
      },
      "outputs": [
        {
          "output_type": "execute_result",
          "data": {
            "text/plain": [
              "             Images    Labels  Rows  Cols\n",
              "Train  (60000, 784)  (60000,)    28    28\n",
              "Test   (10000, 784)  (10000,)    28    28"
            ],
            "text/html": [
              "\n",
              "  <div id=\"df-fcd4e9f2-59b9-49d7-ba0b-21677ba4e578\" class=\"colab-df-container\">\n",
              "    <div>\n",
              "<style scoped>\n",
              "    .dataframe tbody tr th:only-of-type {\n",
              "        vertical-align: middle;\n",
              "    }\n",
              "\n",
              "    .dataframe tbody tr th {\n",
              "        vertical-align: top;\n",
              "    }\n",
              "\n",
              "    .dataframe thead th {\n",
              "        text-align: right;\n",
              "    }\n",
              "</style>\n",
              "<table border=\"1\" class=\"dataframe\">\n",
              "  <thead>\n",
              "    <tr style=\"text-align: right;\">\n",
              "      <th></th>\n",
              "      <th>Images</th>\n",
              "      <th>Labels</th>\n",
              "      <th>Rows</th>\n",
              "      <th>Cols</th>\n",
              "    </tr>\n",
              "  </thead>\n",
              "  <tbody>\n",
              "    <tr>\n",
              "      <th>Train</th>\n",
              "      <td>(60000, 784)</td>\n",
              "      <td>(60000,)</td>\n",
              "      <td>28</td>\n",
              "      <td>28</td>\n",
              "    </tr>\n",
              "    <tr>\n",
              "      <th>Test</th>\n",
              "      <td>(10000, 784)</td>\n",
              "      <td>(10000,)</td>\n",
              "      <td>28</td>\n",
              "      <td>28</td>\n",
              "    </tr>\n",
              "  </tbody>\n",
              "</table>\n",
              "</div>\n",
              "    <div class=\"colab-df-buttons\">\n",
              "\n",
              "  <div class=\"colab-df-container\">\n",
              "    <button class=\"colab-df-convert\" onclick=\"convertToInteractive('df-fcd4e9f2-59b9-49d7-ba0b-21677ba4e578')\"\n",
              "            title=\"Convert this dataframe to an interactive table.\"\n",
              "            style=\"display:none;\">\n",
              "\n",
              "  <svg xmlns=\"http://www.w3.org/2000/svg\" height=\"24px\" viewBox=\"0 -960 960 960\">\n",
              "    <path d=\"M120-120v-720h720v720H120Zm60-500h600v-160H180v160Zm220 220h160v-160H400v160Zm0 220h160v-160H400v160ZM180-400h160v-160H180v160Zm440 0h160v-160H620v160ZM180-180h160v-160H180v160Zm440 0h160v-160H620v160Z\"/>\n",
              "  </svg>\n",
              "    </button>\n",
              "\n",
              "  <style>\n",
              "    .colab-df-container {\n",
              "      display:flex;\n",
              "      gap: 12px;\n",
              "    }\n",
              "\n",
              "    .colab-df-convert {\n",
              "      background-color: #E8F0FE;\n",
              "      border: none;\n",
              "      border-radius: 50%;\n",
              "      cursor: pointer;\n",
              "      display: none;\n",
              "      fill: #1967D2;\n",
              "      height: 32px;\n",
              "      padding: 0 0 0 0;\n",
              "      width: 32px;\n",
              "    }\n",
              "\n",
              "    .colab-df-convert:hover {\n",
              "      background-color: #E2EBFA;\n",
              "      box-shadow: 0px 1px 2px rgba(60, 64, 67, 0.3), 0px 1px 3px 1px rgba(60, 64, 67, 0.15);\n",
              "      fill: #174EA6;\n",
              "    }\n",
              "\n",
              "    .colab-df-buttons div {\n",
              "      margin-bottom: 4px;\n",
              "    }\n",
              "\n",
              "    [theme=dark] .colab-df-convert {\n",
              "      background-color: #3B4455;\n",
              "      fill: #D2E3FC;\n",
              "    }\n",
              "\n",
              "    [theme=dark] .colab-df-convert:hover {\n",
              "      background-color: #434B5C;\n",
              "      box-shadow: 0px 1px 3px 1px rgba(0, 0, 0, 0.15);\n",
              "      filter: drop-shadow(0px 1px 2px rgba(0, 0, 0, 0.3));\n",
              "      fill: #FFFFFF;\n",
              "    }\n",
              "  </style>\n",
              "\n",
              "    <script>\n",
              "      const buttonEl =\n",
              "        document.querySelector('#df-fcd4e9f2-59b9-49d7-ba0b-21677ba4e578 button.colab-df-convert');\n",
              "      buttonEl.style.display =\n",
              "        google.colab.kernel.accessAllowed ? 'block' : 'none';\n",
              "\n",
              "      async function convertToInteractive(key) {\n",
              "        const element = document.querySelector('#df-fcd4e9f2-59b9-49d7-ba0b-21677ba4e578');\n",
              "        const dataTable =\n",
              "          await google.colab.kernel.invokeFunction('convertToInteractive',\n",
              "                                                    [key], {});\n",
              "        if (!dataTable) return;\n",
              "\n",
              "        const docLinkHtml = 'Like what you see? Visit the ' +\n",
              "          '<a target=\"_blank\" href=https://colab.research.google.com/notebooks/data_table.ipynb>data table notebook</a>'\n",
              "          + ' to learn more about interactive tables.';\n",
              "        element.innerHTML = '';\n",
              "        dataTable['output_type'] = 'display_data';\n",
              "        await google.colab.output.renderOutput(dataTable, element);\n",
              "        const docLink = document.createElement('div');\n",
              "        docLink.innerHTML = docLinkHtml;\n",
              "        element.appendChild(docLink);\n",
              "      }\n",
              "    </script>\n",
              "  </div>\n",
              "\n",
              "\n",
              "<div id=\"df-51e9d80b-a6e7-4629-a041-b269f7654eb9\">\n",
              "  <button class=\"colab-df-quickchart\" onclick=\"quickchart('df-51e9d80b-a6e7-4629-a041-b269f7654eb9')\"\n",
              "            title=\"Suggest charts\"\n",
              "            style=\"display:none;\">\n",
              "\n",
              "<svg xmlns=\"http://www.w3.org/2000/svg\" height=\"24px\"viewBox=\"0 0 24 24\"\n",
              "     width=\"24px\">\n",
              "    <g>\n",
              "        <path d=\"M19 3H5c-1.1 0-2 .9-2 2v14c0 1.1.9 2 2 2h14c1.1 0 2-.9 2-2V5c0-1.1-.9-2-2-2zM9 17H7v-7h2v7zm4 0h-2V7h2v10zm4 0h-2v-4h2v4z\"/>\n",
              "    </g>\n",
              "</svg>\n",
              "  </button>\n",
              "\n",
              "<style>\n",
              "  .colab-df-quickchart {\n",
              "      --bg-color: #E8F0FE;\n",
              "      --fill-color: #1967D2;\n",
              "      --hover-bg-color: #E2EBFA;\n",
              "      --hover-fill-color: #174EA6;\n",
              "      --disabled-fill-color: #AAA;\n",
              "      --disabled-bg-color: #DDD;\n",
              "  }\n",
              "\n",
              "  [theme=dark] .colab-df-quickchart {\n",
              "      --bg-color: #3B4455;\n",
              "      --fill-color: #D2E3FC;\n",
              "      --hover-bg-color: #434B5C;\n",
              "      --hover-fill-color: #FFFFFF;\n",
              "      --disabled-bg-color: #3B4455;\n",
              "      --disabled-fill-color: #666;\n",
              "  }\n",
              "\n",
              "  .colab-df-quickchart {\n",
              "    background-color: var(--bg-color);\n",
              "    border: none;\n",
              "    border-radius: 50%;\n",
              "    cursor: pointer;\n",
              "    display: none;\n",
              "    fill: var(--fill-color);\n",
              "    height: 32px;\n",
              "    padding: 0;\n",
              "    width: 32px;\n",
              "  }\n",
              "\n",
              "  .colab-df-quickchart:hover {\n",
              "    background-color: var(--hover-bg-color);\n",
              "    box-shadow: 0 1px 2px rgba(60, 64, 67, 0.3), 0 1px 3px 1px rgba(60, 64, 67, 0.15);\n",
              "    fill: var(--button-hover-fill-color);\n",
              "  }\n",
              "\n",
              "  .colab-df-quickchart-complete:disabled,\n",
              "  .colab-df-quickchart-complete:disabled:hover {\n",
              "    background-color: var(--disabled-bg-color);\n",
              "    fill: var(--disabled-fill-color);\n",
              "    box-shadow: none;\n",
              "  }\n",
              "\n",
              "  .colab-df-spinner {\n",
              "    border: 2px solid var(--fill-color);\n",
              "    border-color: transparent;\n",
              "    border-bottom-color: var(--fill-color);\n",
              "    animation:\n",
              "      spin 1s steps(1) infinite;\n",
              "  }\n",
              "\n",
              "  @keyframes spin {\n",
              "    0% {\n",
              "      border-color: transparent;\n",
              "      border-bottom-color: var(--fill-color);\n",
              "      border-left-color: var(--fill-color);\n",
              "    }\n",
              "    20% {\n",
              "      border-color: transparent;\n",
              "      border-left-color: var(--fill-color);\n",
              "      border-top-color: var(--fill-color);\n",
              "    }\n",
              "    30% {\n",
              "      border-color: transparent;\n",
              "      border-left-color: var(--fill-color);\n",
              "      border-top-color: var(--fill-color);\n",
              "      border-right-color: var(--fill-color);\n",
              "    }\n",
              "    40% {\n",
              "      border-color: transparent;\n",
              "      border-right-color: var(--fill-color);\n",
              "      border-top-color: var(--fill-color);\n",
              "    }\n",
              "    60% {\n",
              "      border-color: transparent;\n",
              "      border-right-color: var(--fill-color);\n",
              "    }\n",
              "    80% {\n",
              "      border-color: transparent;\n",
              "      border-right-color: var(--fill-color);\n",
              "      border-bottom-color: var(--fill-color);\n",
              "    }\n",
              "    90% {\n",
              "      border-color: transparent;\n",
              "      border-bottom-color: var(--fill-color);\n",
              "    }\n",
              "  }\n",
              "</style>\n",
              "\n",
              "  <script>\n",
              "    async function quickchart(key) {\n",
              "      const quickchartButtonEl =\n",
              "        document.querySelector('#' + key + ' button');\n",
              "      quickchartButtonEl.disabled = true;  // To prevent multiple clicks.\n",
              "      quickchartButtonEl.classList.add('colab-df-spinner');\n",
              "      try {\n",
              "        const charts = await google.colab.kernel.invokeFunction(\n",
              "            'suggestCharts', [key], {});\n",
              "      } catch (error) {\n",
              "        console.error('Error during call to suggestCharts:', error);\n",
              "      }\n",
              "      quickchartButtonEl.classList.remove('colab-df-spinner');\n",
              "      quickchartButtonEl.classList.add('colab-df-quickchart-complete');\n",
              "    }\n",
              "    (() => {\n",
              "      let quickchartButtonEl =\n",
              "        document.querySelector('#df-51e9d80b-a6e7-4629-a041-b269f7654eb9 button');\n",
              "      quickchartButtonEl.style.display =\n",
              "        google.colab.kernel.accessAllowed ? 'block' : 'none';\n",
              "    })();\n",
              "  </script>\n",
              "</div>\n",
              "\n",
              "    </div>\n",
              "  </div>\n"
            ],
            "application/vnd.google.colaboratory.intrinsic+json": {
              "type": "dataframe",
              "summary": "{\n  \"name\": \"}, index=['Train', 'Test'])\",\n  \"rows\": 2,\n  \"fields\": [\n    {\n      \"column\": \"Images\",\n      \"properties\": {\n        \"dtype\": \"string\",\n        \"num_unique_values\": 2,\n        \"samples\": [\n          [\n            10000,\n            784\n          ],\n          [\n            60000,\n            784\n          ]\n        ],\n        \"semantic_type\": \"\",\n        \"description\": \"\"\n      }\n    },\n    {\n      \"column\": \"Labels\",\n      \"properties\": {\n        \"dtype\": \"string\",\n        \"num_unique_values\": 2,\n        \"samples\": [\n          [\n            10000\n          ],\n          [\n            60000\n          ]\n        ],\n        \"semantic_type\": \"\",\n        \"description\": \"\"\n      }\n    },\n    {\n      \"column\": \"Rows\",\n      \"properties\": {\n        \"dtype\": \"number\",\n        \"std\": 0,\n        \"min\": 28,\n        \"max\": 28,\n        \"num_unique_values\": 1,\n        \"samples\": [\n          28\n        ],\n        \"semantic_type\": \"\",\n        \"description\": \"\"\n      }\n    },\n    {\n      \"column\": \"Cols\",\n      \"properties\": {\n        \"dtype\": \"number\",\n        \"std\": 0,\n        \"min\": 28,\n        \"max\": 28,\n        \"num_unique_values\": 1,\n        \"samples\": [\n          28\n        ],\n        \"semantic_type\": \"\",\n        \"description\": \"\"\n      }\n    }\n  ]\n}"
            }
          },
          "metadata": {},
          "execution_count": 177
        }
      ],
      "source": [
        "import pandas as pd\n",
        "\n",
        "pd.DataFrame({\n",
        "    'Images': [image_array.shape, test_image_array.shape],\n",
        "    'Labels': [label_array.shape, test_label_array.shape],\n",
        "    'Rows': [rows, rows],\n",
        "    'Cols': [cols, cols]\n",
        "}, index=['Train', 'Test'])"
      ]
    },
    {
      "cell_type": "code",
      "execution_count": 178,
      "metadata": {
        "id": "tWblweq6yr1f"
      },
      "outputs": [],
      "source": [
        "def print_number(number_array):\n",
        "    j = 0\n",
        "    for block in number_array:\n",
        "        j += 1\n",
        "        print('\\033[1;35m1\\033[0m' if block else '\\033[1;32m0\\033[0m', end='\\n' if j % cols == 0 else '')\n",
        "    print(\"\\n\\n\")"
      ]
    },
    {
      "cell_type": "code",
      "execution_count": 179,
      "metadata": {
        "id": "beHJ0Sia5ge0"
      },
      "outputs": [],
      "source": [
        "class ELM:\n",
        "    def __init__(self, input_neurons, hidden_neurons, output_neurons):\n",
        "        self.input_neurons = input_neurons\n",
        "        self.hidden_neurons = hidden_neurons\n",
        "        self.output_neurons = output_neurons\n",
        "\n",
        "        self.weight = np.random.randn(input_neurons, hidden_neurons)\n",
        "        self.bias = np.random.randn(hidden_neurons)\n",
        "        self.beta = None\n",
        "\n",
        "    def sigmoid(self, x):\n",
        "        return 1 / (1 + np.exp(-x))\n",
        "\n",
        "    def train(self, x_train, y_train):\n",
        "        h_x = self.sigmoid(np.dot(x_train, self.weight) + self.bias)\n",
        "        self.beta = np.dot(np.linalg.pinv(h_x), y_train)\n",
        "\n",
        "    def predict(self, x_test):\n",
        "        h_x = self.sigmoid(np.dot(x_test, self.weight) + self.bias)\n",
        "        prediction = np.dot(h_x, self.beta)\n",
        "        return np.argmax(prediction, axis=1)"
      ]
    },
    {
      "cell_type": "code",
      "execution_count": 180,
      "metadata": {
        "id": "yhEJVFY0aA-T"
      },
      "outputs": [],
      "source": [
        "from sklearn.preprocessing import OneHotEncoder\n",
        "\n",
        "encoder = OneHotEncoder(sparse_output=False)\n",
        "train_labels_encoded = encoder.fit_transform(label_array.reshape(-1, 1).get())"
      ]
    },
    {
      "cell_type": "code",
      "execution_count": 181,
      "metadata": {
        "id": "bb9vtsfUaAWl"
      },
      "outputs": [],
      "source": [
        "elm = ELM(test_image_array.shape[1], 100, len(encoder.categories_))"
      ]
    },
    {
      "cell_type": "code",
      "execution_count": 182,
      "metadata": {
        "id": "WVFl9Lk5KPb3"
      },
      "outputs": [],
      "source": [
        "elm.train(image_array, np.array(train_labels_encoded))"
      ]
    },
    {
      "cell_type": "code",
      "execution_count": 183,
      "metadata": {
        "id": "b9PSpuyBL98w"
      },
      "outputs": [],
      "source": [
        "y_pred = elm.predict(test_image_array)"
      ]
    },
    {
      "cell_type": "code",
      "execution_count": 184,
      "metadata": {
        "colab": {
          "base_uri": "https://localhost:8080/"
        },
        "id": "wHuoGJ4URb1T",
        "outputId": "81fe3065-6e13-461e-f4f0-d5a4107189b3"
      },
      "outputs": [
        {
          "output_type": "stream",
          "name": "stdout",
          "text": [
            "Accuracy:  80.27\n"
          ]
        }
      ],
      "source": [
        "print('Accuracy: ', np.sum(y_pred == test_label_array)/len(test_label_array) * 100)"
      ]
    },
    {
      "cell_type": "code",
      "execution_count": 187,
      "metadata": {
        "colab": {
          "base_uri": "https://localhost:8080/"
        },
        "id": "dTMk6k1Tc-YQ",
        "outputId": "5080e604-cbb6-4d96-e3bb-ef7dc84749b6"
      },
      "outputs": [
        {
          "output_type": "stream",
          "name": "stdout",
          "text": [
            "\u001b[1;32m0\u001b[0m\u001b[1;32m0\u001b[0m\u001b[1;32m0\u001b[0m\u001b[1;32m0\u001b[0m\u001b[1;32m0\u001b[0m\u001b[1;32m0\u001b[0m\u001b[1;32m0\u001b[0m\u001b[1;32m0\u001b[0m\u001b[1;32m0\u001b[0m\u001b[1;32m0\u001b[0m\u001b[1;32m0\u001b[0m\u001b[1;32m0\u001b[0m\u001b[1;32m0\u001b[0m\u001b[1;32m0\u001b[0m\u001b[1;32m0\u001b[0m\u001b[1;32m0\u001b[0m\u001b[1;32m0\u001b[0m\u001b[1;32m0\u001b[0m\u001b[1;32m0\u001b[0m\u001b[1;32m0\u001b[0m\u001b[1;32m0\u001b[0m\u001b[1;32m0\u001b[0m\u001b[1;32m0\u001b[0m\u001b[1;32m0\u001b[0m\u001b[1;32m0\u001b[0m\u001b[1;32m0\u001b[0m\u001b[1;32m0\u001b[0m\u001b[1;32m0\u001b[0m\n",
            "\u001b[1;32m0\u001b[0m\u001b[1;32m0\u001b[0m\u001b[1;32m0\u001b[0m\u001b[1;32m0\u001b[0m\u001b[1;32m0\u001b[0m\u001b[1;32m0\u001b[0m\u001b[1;32m0\u001b[0m\u001b[1;32m0\u001b[0m\u001b[1;32m0\u001b[0m\u001b[1;32m0\u001b[0m\u001b[1;32m0\u001b[0m\u001b[1;32m0\u001b[0m\u001b[1;32m0\u001b[0m\u001b[1;32m0\u001b[0m\u001b[1;32m0\u001b[0m\u001b[1;32m0\u001b[0m\u001b[1;32m0\u001b[0m\u001b[1;32m0\u001b[0m\u001b[1;32m0\u001b[0m\u001b[1;32m0\u001b[0m\u001b[1;32m0\u001b[0m\u001b[1;32m0\u001b[0m\u001b[1;32m0\u001b[0m\u001b[1;32m0\u001b[0m\u001b[1;32m0\u001b[0m\u001b[1;32m0\u001b[0m\u001b[1;32m0\u001b[0m\u001b[1;32m0\u001b[0m\n",
            "\u001b[1;32m0\u001b[0m\u001b[1;32m0\u001b[0m\u001b[1;32m0\u001b[0m\u001b[1;32m0\u001b[0m\u001b[1;32m0\u001b[0m\u001b[1;32m0\u001b[0m\u001b[1;32m0\u001b[0m\u001b[1;32m0\u001b[0m\u001b[1;32m0\u001b[0m\u001b[1;32m0\u001b[0m\u001b[1;32m0\u001b[0m\u001b[1;32m0\u001b[0m\u001b[1;32m0\u001b[0m\u001b[1;32m0\u001b[0m\u001b[1;32m0\u001b[0m\u001b[1;32m0\u001b[0m\u001b[1;32m0\u001b[0m\u001b[1;32m0\u001b[0m\u001b[1;32m0\u001b[0m\u001b[1;32m0\u001b[0m\u001b[1;32m0\u001b[0m\u001b[1;32m0\u001b[0m\u001b[1;32m0\u001b[0m\u001b[1;32m0\u001b[0m\u001b[1;32m0\u001b[0m\u001b[1;32m0\u001b[0m\u001b[1;32m0\u001b[0m\u001b[1;32m0\u001b[0m\n",
            "\u001b[1;32m0\u001b[0m\u001b[1;32m0\u001b[0m\u001b[1;32m0\u001b[0m\u001b[1;32m0\u001b[0m\u001b[1;32m0\u001b[0m\u001b[1;32m0\u001b[0m\u001b[1;32m0\u001b[0m\u001b[1;32m0\u001b[0m\u001b[1;32m0\u001b[0m\u001b[1;32m0\u001b[0m\u001b[1;32m0\u001b[0m\u001b[1;32m0\u001b[0m\u001b[1;32m0\u001b[0m\u001b[1;32m0\u001b[0m\u001b[1;32m0\u001b[0m\u001b[1;32m0\u001b[0m\u001b[1;32m0\u001b[0m\u001b[1;32m0\u001b[0m\u001b[1;32m0\u001b[0m\u001b[1;32m0\u001b[0m\u001b[1;32m0\u001b[0m\u001b[1;32m0\u001b[0m\u001b[1;32m0\u001b[0m\u001b[1;32m0\u001b[0m\u001b[1;32m0\u001b[0m\u001b[1;32m0\u001b[0m\u001b[1;32m0\u001b[0m\u001b[1;32m0\u001b[0m\n",
            "\u001b[1;32m0\u001b[0m\u001b[1;32m0\u001b[0m\u001b[1;32m0\u001b[0m\u001b[1;32m0\u001b[0m\u001b[1;32m0\u001b[0m\u001b[1;32m0\u001b[0m\u001b[1;32m0\u001b[0m\u001b[1;32m0\u001b[0m\u001b[1;32m0\u001b[0m\u001b[1;32m0\u001b[0m\u001b[1;32m0\u001b[0m\u001b[1;32m0\u001b[0m\u001b[1;32m0\u001b[0m\u001b[1;32m0\u001b[0m\u001b[1;32m0\u001b[0m\u001b[1;32m0\u001b[0m\u001b[1;32m0\u001b[0m\u001b[1;32m0\u001b[0m\u001b[1;32m0\u001b[0m\u001b[1;32m0\u001b[0m\u001b[1;32m0\u001b[0m\u001b[1;32m0\u001b[0m\u001b[1;32m0\u001b[0m\u001b[1;32m0\u001b[0m\u001b[1;32m0\u001b[0m\u001b[1;32m0\u001b[0m\u001b[1;32m0\u001b[0m\u001b[1;32m0\u001b[0m\n",
            "\u001b[1;32m0\u001b[0m\u001b[1;32m0\u001b[0m\u001b[1;32m0\u001b[0m\u001b[1;32m0\u001b[0m\u001b[1;32m0\u001b[0m\u001b[1;32m0\u001b[0m\u001b[1;32m0\u001b[0m\u001b[1;32m0\u001b[0m\u001b[1;32m0\u001b[0m\u001b[1;32m0\u001b[0m\u001b[1;32m0\u001b[0m\u001b[1;32m0\u001b[0m\u001b[1;35m1\u001b[0m\u001b[1;35m1\u001b[0m\u001b[1;35m1\u001b[0m\u001b[1;32m0\u001b[0m\u001b[1;32m0\u001b[0m\u001b[1;32m0\u001b[0m\u001b[1;32m0\u001b[0m\u001b[1;32m0\u001b[0m\u001b[1;32m0\u001b[0m\u001b[1;32m0\u001b[0m\u001b[1;32m0\u001b[0m\u001b[1;32m0\u001b[0m\u001b[1;32m0\u001b[0m\u001b[1;32m0\u001b[0m\u001b[1;32m0\u001b[0m\u001b[1;32m0\u001b[0m\n",
            "\u001b[1;32m0\u001b[0m\u001b[1;32m0\u001b[0m\u001b[1;32m0\u001b[0m\u001b[1;32m0\u001b[0m\u001b[1;32m0\u001b[0m\u001b[1;32m0\u001b[0m\u001b[1;32m0\u001b[0m\u001b[1;32m0\u001b[0m\u001b[1;32m0\u001b[0m\u001b[1;32m0\u001b[0m\u001b[1;32m0\u001b[0m\u001b[1;32m0\u001b[0m\u001b[1;35m1\u001b[0m\u001b[1;35m1\u001b[0m\u001b[1;35m1\u001b[0m\u001b[1;35m1\u001b[0m\u001b[1;32m0\u001b[0m\u001b[1;32m0\u001b[0m\u001b[1;32m0\u001b[0m\u001b[1;32m0\u001b[0m\u001b[1;32m0\u001b[0m\u001b[1;32m0\u001b[0m\u001b[1;32m0\u001b[0m\u001b[1;32m0\u001b[0m\u001b[1;32m0\u001b[0m\u001b[1;32m0\u001b[0m\u001b[1;32m0\u001b[0m\u001b[1;32m0\u001b[0m\n",
            "\u001b[1;32m0\u001b[0m\u001b[1;32m0\u001b[0m\u001b[1;32m0\u001b[0m\u001b[1;32m0\u001b[0m\u001b[1;32m0\u001b[0m\u001b[1;32m0\u001b[0m\u001b[1;32m0\u001b[0m\u001b[1;32m0\u001b[0m\u001b[1;32m0\u001b[0m\u001b[1;32m0\u001b[0m\u001b[1;32m0\u001b[0m\u001b[1;32m0\u001b[0m\u001b[1;35m1\u001b[0m\u001b[1;35m1\u001b[0m\u001b[1;35m1\u001b[0m\u001b[1;35m1\u001b[0m\u001b[1;32m0\u001b[0m\u001b[1;32m0\u001b[0m\u001b[1;32m0\u001b[0m\u001b[1;32m0\u001b[0m\u001b[1;32m0\u001b[0m\u001b[1;32m0\u001b[0m\u001b[1;32m0\u001b[0m\u001b[1;32m0\u001b[0m\u001b[1;32m0\u001b[0m\u001b[1;32m0\u001b[0m\u001b[1;32m0\u001b[0m\u001b[1;32m0\u001b[0m\n",
            "\u001b[1;32m0\u001b[0m\u001b[1;32m0\u001b[0m\u001b[1;32m0\u001b[0m\u001b[1;32m0\u001b[0m\u001b[1;32m0\u001b[0m\u001b[1;32m0\u001b[0m\u001b[1;32m0\u001b[0m\u001b[1;32m0\u001b[0m\u001b[1;32m0\u001b[0m\u001b[1;32m0\u001b[0m\u001b[1;32m0\u001b[0m\u001b[1;32m0\u001b[0m\u001b[1;35m1\u001b[0m\u001b[1;35m1\u001b[0m\u001b[1;35m1\u001b[0m\u001b[1;35m1\u001b[0m\u001b[1;32m0\u001b[0m\u001b[1;32m0\u001b[0m\u001b[1;32m0\u001b[0m\u001b[1;32m0\u001b[0m\u001b[1;32m0\u001b[0m\u001b[1;32m0\u001b[0m\u001b[1;32m0\u001b[0m\u001b[1;32m0\u001b[0m\u001b[1;32m0\u001b[0m\u001b[1;32m0\u001b[0m\u001b[1;32m0\u001b[0m\u001b[1;32m0\u001b[0m\n",
            "\u001b[1;32m0\u001b[0m\u001b[1;32m0\u001b[0m\u001b[1;32m0\u001b[0m\u001b[1;32m0\u001b[0m\u001b[1;32m0\u001b[0m\u001b[1;32m0\u001b[0m\u001b[1;32m0\u001b[0m\u001b[1;32m0\u001b[0m\u001b[1;32m0\u001b[0m\u001b[1;32m0\u001b[0m\u001b[1;32m0\u001b[0m\u001b[1;32m0\u001b[0m\u001b[1;35m1\u001b[0m\u001b[1;35m1\u001b[0m\u001b[1;35m1\u001b[0m\u001b[1;35m1\u001b[0m\u001b[1;32m0\u001b[0m\u001b[1;32m0\u001b[0m\u001b[1;32m0\u001b[0m\u001b[1;32m0\u001b[0m\u001b[1;32m0\u001b[0m\u001b[1;32m0\u001b[0m\u001b[1;32m0\u001b[0m\u001b[1;32m0\u001b[0m\u001b[1;32m0\u001b[0m\u001b[1;32m0\u001b[0m\u001b[1;32m0\u001b[0m\u001b[1;32m0\u001b[0m\n",
            "\u001b[1;32m0\u001b[0m\u001b[1;32m0\u001b[0m\u001b[1;32m0\u001b[0m\u001b[1;32m0\u001b[0m\u001b[1;32m0\u001b[0m\u001b[1;32m0\u001b[0m\u001b[1;32m0\u001b[0m\u001b[1;32m0\u001b[0m\u001b[1;32m0\u001b[0m\u001b[1;32m0\u001b[0m\u001b[1;32m0\u001b[0m\u001b[1;32m0\u001b[0m\u001b[1;35m1\u001b[0m\u001b[1;35m1\u001b[0m\u001b[1;35m1\u001b[0m\u001b[1;35m1\u001b[0m\u001b[1;32m0\u001b[0m\u001b[1;32m0\u001b[0m\u001b[1;32m0\u001b[0m\u001b[1;32m0\u001b[0m\u001b[1;32m0\u001b[0m\u001b[1;32m0\u001b[0m\u001b[1;32m0\u001b[0m\u001b[1;32m0\u001b[0m\u001b[1;32m0\u001b[0m\u001b[1;32m0\u001b[0m\u001b[1;32m0\u001b[0m\u001b[1;32m0\u001b[0m\n",
            "\u001b[1;32m0\u001b[0m\u001b[1;32m0\u001b[0m\u001b[1;32m0\u001b[0m\u001b[1;32m0\u001b[0m\u001b[1;32m0\u001b[0m\u001b[1;32m0\u001b[0m\u001b[1;32m0\u001b[0m\u001b[1;32m0\u001b[0m\u001b[1;32m0\u001b[0m\u001b[1;32m0\u001b[0m\u001b[1;32m0\u001b[0m\u001b[1;32m0\u001b[0m\u001b[1;35m1\u001b[0m\u001b[1;35m1\u001b[0m\u001b[1;35m1\u001b[0m\u001b[1;35m1\u001b[0m\u001b[1;32m0\u001b[0m\u001b[1;32m0\u001b[0m\u001b[1;32m0\u001b[0m\u001b[1;32m0\u001b[0m\u001b[1;32m0\u001b[0m\u001b[1;32m0\u001b[0m\u001b[1;32m0\u001b[0m\u001b[1;32m0\u001b[0m\u001b[1;32m0\u001b[0m\u001b[1;32m0\u001b[0m\u001b[1;32m0\u001b[0m\u001b[1;32m0\u001b[0m\n",
            "\u001b[1;32m0\u001b[0m\u001b[1;32m0\u001b[0m\u001b[1;32m0\u001b[0m\u001b[1;32m0\u001b[0m\u001b[1;32m0\u001b[0m\u001b[1;32m0\u001b[0m\u001b[1;32m0\u001b[0m\u001b[1;32m0\u001b[0m\u001b[1;32m0\u001b[0m\u001b[1;32m0\u001b[0m\u001b[1;32m0\u001b[0m\u001b[1;32m0\u001b[0m\u001b[1;32m0\u001b[0m\u001b[1;35m1\u001b[0m\u001b[1;35m1\u001b[0m\u001b[1;35m1\u001b[0m\u001b[1;32m0\u001b[0m\u001b[1;32m0\u001b[0m\u001b[1;32m0\u001b[0m\u001b[1;32m0\u001b[0m\u001b[1;32m0\u001b[0m\u001b[1;32m0\u001b[0m\u001b[1;32m0\u001b[0m\u001b[1;32m0\u001b[0m\u001b[1;32m0\u001b[0m\u001b[1;32m0\u001b[0m\u001b[1;32m0\u001b[0m\u001b[1;32m0\u001b[0m\n",
            "\u001b[1;32m0\u001b[0m\u001b[1;32m0\u001b[0m\u001b[1;32m0\u001b[0m\u001b[1;32m0\u001b[0m\u001b[1;32m0\u001b[0m\u001b[1;32m0\u001b[0m\u001b[1;32m0\u001b[0m\u001b[1;32m0\u001b[0m\u001b[1;32m0\u001b[0m\u001b[1;32m0\u001b[0m\u001b[1;32m0\u001b[0m\u001b[1;32m0\u001b[0m\u001b[1;32m0\u001b[0m\u001b[1;35m1\u001b[0m\u001b[1;35m1\u001b[0m\u001b[1;35m1\u001b[0m\u001b[1;32m0\u001b[0m\u001b[1;32m0\u001b[0m\u001b[1;32m0\u001b[0m\u001b[1;32m0\u001b[0m\u001b[1;32m0\u001b[0m\u001b[1;32m0\u001b[0m\u001b[1;32m0\u001b[0m\u001b[1;32m0\u001b[0m\u001b[1;32m0\u001b[0m\u001b[1;32m0\u001b[0m\u001b[1;32m0\u001b[0m\u001b[1;32m0\u001b[0m\n",
            "\u001b[1;32m0\u001b[0m\u001b[1;32m0\u001b[0m\u001b[1;32m0\u001b[0m\u001b[1;32m0\u001b[0m\u001b[1;32m0\u001b[0m\u001b[1;32m0\u001b[0m\u001b[1;32m0\u001b[0m\u001b[1;32m0\u001b[0m\u001b[1;32m0\u001b[0m\u001b[1;32m0\u001b[0m\u001b[1;32m0\u001b[0m\u001b[1;32m0\u001b[0m\u001b[1;32m0\u001b[0m\u001b[1;35m1\u001b[0m\u001b[1;35m1\u001b[0m\u001b[1;35m1\u001b[0m\u001b[1;32m0\u001b[0m\u001b[1;32m0\u001b[0m\u001b[1;32m0\u001b[0m\u001b[1;32m0\u001b[0m\u001b[1;32m0\u001b[0m\u001b[1;32m0\u001b[0m\u001b[1;32m0\u001b[0m\u001b[1;32m0\u001b[0m\u001b[1;32m0\u001b[0m\u001b[1;32m0\u001b[0m\u001b[1;32m0\u001b[0m\u001b[1;32m0\u001b[0m\n",
            "\u001b[1;32m0\u001b[0m\u001b[1;32m0\u001b[0m\u001b[1;32m0\u001b[0m\u001b[1;32m0\u001b[0m\u001b[1;32m0\u001b[0m\u001b[1;32m0\u001b[0m\u001b[1;32m0\u001b[0m\u001b[1;32m0\u001b[0m\u001b[1;32m0\u001b[0m\u001b[1;32m0\u001b[0m\u001b[1;32m0\u001b[0m\u001b[1;32m0\u001b[0m\u001b[1;32m0\u001b[0m\u001b[1;35m1\u001b[0m\u001b[1;35m1\u001b[0m\u001b[1;35m1\u001b[0m\u001b[1;32m0\u001b[0m\u001b[1;32m0\u001b[0m\u001b[1;32m0\u001b[0m\u001b[1;32m0\u001b[0m\u001b[1;32m0\u001b[0m\u001b[1;32m0\u001b[0m\u001b[1;32m0\u001b[0m\u001b[1;32m0\u001b[0m\u001b[1;32m0\u001b[0m\u001b[1;32m0\u001b[0m\u001b[1;32m0\u001b[0m\u001b[1;32m0\u001b[0m\n",
            "\u001b[1;32m0\u001b[0m\u001b[1;32m0\u001b[0m\u001b[1;32m0\u001b[0m\u001b[1;32m0\u001b[0m\u001b[1;32m0\u001b[0m\u001b[1;32m0\u001b[0m\u001b[1;32m0\u001b[0m\u001b[1;32m0\u001b[0m\u001b[1;32m0\u001b[0m\u001b[1;32m0\u001b[0m\u001b[1;32m0\u001b[0m\u001b[1;32m0\u001b[0m\u001b[1;32m0\u001b[0m\u001b[1;35m1\u001b[0m\u001b[1;35m1\u001b[0m\u001b[1;35m1\u001b[0m\u001b[1;32m0\u001b[0m\u001b[1;32m0\u001b[0m\u001b[1;32m0\u001b[0m\u001b[1;32m0\u001b[0m\u001b[1;32m0\u001b[0m\u001b[1;32m0\u001b[0m\u001b[1;32m0\u001b[0m\u001b[1;32m0\u001b[0m\u001b[1;32m0\u001b[0m\u001b[1;32m0\u001b[0m\u001b[1;32m0\u001b[0m\u001b[1;32m0\u001b[0m\n",
            "\u001b[1;32m0\u001b[0m\u001b[1;32m0\u001b[0m\u001b[1;32m0\u001b[0m\u001b[1;32m0\u001b[0m\u001b[1;32m0\u001b[0m\u001b[1;32m0\u001b[0m\u001b[1;32m0\u001b[0m\u001b[1;32m0\u001b[0m\u001b[1;32m0\u001b[0m\u001b[1;32m0\u001b[0m\u001b[1;32m0\u001b[0m\u001b[1;32m0\u001b[0m\u001b[1;32m0\u001b[0m\u001b[1;35m1\u001b[0m\u001b[1;35m1\u001b[0m\u001b[1;35m1\u001b[0m\u001b[1;35m1\u001b[0m\u001b[1;32m0\u001b[0m\u001b[1;32m0\u001b[0m\u001b[1;32m0\u001b[0m\u001b[1;32m0\u001b[0m\u001b[1;32m0\u001b[0m\u001b[1;32m0\u001b[0m\u001b[1;32m0\u001b[0m\u001b[1;32m0\u001b[0m\u001b[1;32m0\u001b[0m\u001b[1;32m0\u001b[0m\u001b[1;32m0\u001b[0m\n",
            "\u001b[1;32m0\u001b[0m\u001b[1;32m0\u001b[0m\u001b[1;32m0\u001b[0m\u001b[1;32m0\u001b[0m\u001b[1;32m0\u001b[0m\u001b[1;32m0\u001b[0m\u001b[1;32m0\u001b[0m\u001b[1;32m0\u001b[0m\u001b[1;32m0\u001b[0m\u001b[1;32m0\u001b[0m\u001b[1;32m0\u001b[0m\u001b[1;32m0\u001b[0m\u001b[1;32m0\u001b[0m\u001b[1;35m1\u001b[0m\u001b[1;35m1\u001b[0m\u001b[1;35m1\u001b[0m\u001b[1;35m1\u001b[0m\u001b[1;32m0\u001b[0m\u001b[1;32m0\u001b[0m\u001b[1;32m0\u001b[0m\u001b[1;32m0\u001b[0m\u001b[1;32m0\u001b[0m\u001b[1;32m0\u001b[0m\u001b[1;32m0\u001b[0m\u001b[1;32m0\u001b[0m\u001b[1;32m0\u001b[0m\u001b[1;32m0\u001b[0m\u001b[1;32m0\u001b[0m\n",
            "\u001b[1;32m0\u001b[0m\u001b[1;32m0\u001b[0m\u001b[1;32m0\u001b[0m\u001b[1;32m0\u001b[0m\u001b[1;32m0\u001b[0m\u001b[1;32m0\u001b[0m\u001b[1;32m0\u001b[0m\u001b[1;32m0\u001b[0m\u001b[1;32m0\u001b[0m\u001b[1;32m0\u001b[0m\u001b[1;32m0\u001b[0m\u001b[1;32m0\u001b[0m\u001b[1;32m0\u001b[0m\u001b[1;32m0\u001b[0m\u001b[1;35m1\u001b[0m\u001b[1;35m1\u001b[0m\u001b[1;35m1\u001b[0m\u001b[1;32m0\u001b[0m\u001b[1;32m0\u001b[0m\u001b[1;32m0\u001b[0m\u001b[1;32m0\u001b[0m\u001b[1;32m0\u001b[0m\u001b[1;32m0\u001b[0m\u001b[1;32m0\u001b[0m\u001b[1;32m0\u001b[0m\u001b[1;32m0\u001b[0m\u001b[1;32m0\u001b[0m\u001b[1;32m0\u001b[0m\n",
            "\u001b[1;32m0\u001b[0m\u001b[1;32m0\u001b[0m\u001b[1;32m0\u001b[0m\u001b[1;32m0\u001b[0m\u001b[1;32m0\u001b[0m\u001b[1;32m0\u001b[0m\u001b[1;32m0\u001b[0m\u001b[1;32m0\u001b[0m\u001b[1;32m0\u001b[0m\u001b[1;32m0\u001b[0m\u001b[1;32m0\u001b[0m\u001b[1;32m0\u001b[0m\u001b[1;32m0\u001b[0m\u001b[1;32m0\u001b[0m\u001b[1;35m1\u001b[0m\u001b[1;35m1\u001b[0m\u001b[1;35m1\u001b[0m\u001b[1;32m0\u001b[0m\u001b[1;32m0\u001b[0m\u001b[1;32m0\u001b[0m\u001b[1;32m0\u001b[0m\u001b[1;32m0\u001b[0m\u001b[1;32m0\u001b[0m\u001b[1;32m0\u001b[0m\u001b[1;32m0\u001b[0m\u001b[1;32m0\u001b[0m\u001b[1;32m0\u001b[0m\u001b[1;32m0\u001b[0m\n",
            "\u001b[1;32m0\u001b[0m\u001b[1;32m0\u001b[0m\u001b[1;32m0\u001b[0m\u001b[1;32m0\u001b[0m\u001b[1;32m0\u001b[0m\u001b[1;32m0\u001b[0m\u001b[1;32m0\u001b[0m\u001b[1;32m0\u001b[0m\u001b[1;32m0\u001b[0m\u001b[1;32m0\u001b[0m\u001b[1;32m0\u001b[0m\u001b[1;32m0\u001b[0m\u001b[1;32m0\u001b[0m\u001b[1;32m0\u001b[0m\u001b[1;35m1\u001b[0m\u001b[1;35m1\u001b[0m\u001b[1;35m1\u001b[0m\u001b[1;32m0\u001b[0m\u001b[1;32m0\u001b[0m\u001b[1;32m0\u001b[0m\u001b[1;32m0\u001b[0m\u001b[1;32m0\u001b[0m\u001b[1;32m0\u001b[0m\u001b[1;32m0\u001b[0m\u001b[1;32m0\u001b[0m\u001b[1;32m0\u001b[0m\u001b[1;32m0\u001b[0m\u001b[1;32m0\u001b[0m\n",
            "\u001b[1;32m0\u001b[0m\u001b[1;32m0\u001b[0m\u001b[1;32m0\u001b[0m\u001b[1;32m0\u001b[0m\u001b[1;32m0\u001b[0m\u001b[1;32m0\u001b[0m\u001b[1;32m0\u001b[0m\u001b[1;32m0\u001b[0m\u001b[1;32m0\u001b[0m\u001b[1;32m0\u001b[0m\u001b[1;32m0\u001b[0m\u001b[1;32m0\u001b[0m\u001b[1;32m0\u001b[0m\u001b[1;32m0\u001b[0m\u001b[1;35m1\u001b[0m\u001b[1;35m1\u001b[0m\u001b[1;35m1\u001b[0m\u001b[1;32m0\u001b[0m\u001b[1;32m0\u001b[0m\u001b[1;32m0\u001b[0m\u001b[1;32m0\u001b[0m\u001b[1;32m0\u001b[0m\u001b[1;32m0\u001b[0m\u001b[1;32m0\u001b[0m\u001b[1;32m0\u001b[0m\u001b[1;32m0\u001b[0m\u001b[1;32m0\u001b[0m\u001b[1;32m0\u001b[0m\n",
            "\u001b[1;32m0\u001b[0m\u001b[1;32m0\u001b[0m\u001b[1;32m0\u001b[0m\u001b[1;32m0\u001b[0m\u001b[1;32m0\u001b[0m\u001b[1;32m0\u001b[0m\u001b[1;32m0\u001b[0m\u001b[1;32m0\u001b[0m\u001b[1;32m0\u001b[0m\u001b[1;32m0\u001b[0m\u001b[1;32m0\u001b[0m\u001b[1;32m0\u001b[0m\u001b[1;32m0\u001b[0m\u001b[1;32m0\u001b[0m\u001b[1;35m1\u001b[0m\u001b[1;35m1\u001b[0m\u001b[1;35m1\u001b[0m\u001b[1;32m0\u001b[0m\u001b[1;32m0\u001b[0m\u001b[1;32m0\u001b[0m\u001b[1;32m0\u001b[0m\u001b[1;32m0\u001b[0m\u001b[1;32m0\u001b[0m\u001b[1;32m0\u001b[0m\u001b[1;32m0\u001b[0m\u001b[1;32m0\u001b[0m\u001b[1;32m0\u001b[0m\u001b[1;32m0\u001b[0m\n",
            "\u001b[1;32m0\u001b[0m\u001b[1;32m0\u001b[0m\u001b[1;32m0\u001b[0m\u001b[1;32m0\u001b[0m\u001b[1;32m0\u001b[0m\u001b[1;32m0\u001b[0m\u001b[1;32m0\u001b[0m\u001b[1;32m0\u001b[0m\u001b[1;32m0\u001b[0m\u001b[1;32m0\u001b[0m\u001b[1;32m0\u001b[0m\u001b[1;32m0\u001b[0m\u001b[1;32m0\u001b[0m\u001b[1;32m0\u001b[0m\u001b[1;35m1\u001b[0m\u001b[1;35m1\u001b[0m\u001b[1;35m1\u001b[0m\u001b[1;32m0\u001b[0m\u001b[1;32m0\u001b[0m\u001b[1;32m0\u001b[0m\u001b[1;32m0\u001b[0m\u001b[1;32m0\u001b[0m\u001b[1;32m0\u001b[0m\u001b[1;32m0\u001b[0m\u001b[1;32m0\u001b[0m\u001b[1;32m0\u001b[0m\u001b[1;32m0\u001b[0m\u001b[1;32m0\u001b[0m\n",
            "\u001b[1;32m0\u001b[0m\u001b[1;32m0\u001b[0m\u001b[1;32m0\u001b[0m\u001b[1;32m0\u001b[0m\u001b[1;32m0\u001b[0m\u001b[1;32m0\u001b[0m\u001b[1;32m0\u001b[0m\u001b[1;32m0\u001b[0m\u001b[1;32m0\u001b[0m\u001b[1;32m0\u001b[0m\u001b[1;32m0\u001b[0m\u001b[1;32m0\u001b[0m\u001b[1;32m0\u001b[0m\u001b[1;32m0\u001b[0m\u001b[1;32m0\u001b[0m\u001b[1;32m0\u001b[0m\u001b[1;32m0\u001b[0m\u001b[1;32m0\u001b[0m\u001b[1;32m0\u001b[0m\u001b[1;32m0\u001b[0m\u001b[1;32m0\u001b[0m\u001b[1;32m0\u001b[0m\u001b[1;32m0\u001b[0m\u001b[1;32m0\u001b[0m\u001b[1;32m0\u001b[0m\u001b[1;32m0\u001b[0m\u001b[1;32m0\u001b[0m\u001b[1;32m0\u001b[0m\n",
            "\u001b[1;32m0\u001b[0m\u001b[1;32m0\u001b[0m\u001b[1;32m0\u001b[0m\u001b[1;32m0\u001b[0m\u001b[1;32m0\u001b[0m\u001b[1;32m0\u001b[0m\u001b[1;32m0\u001b[0m\u001b[1;32m0\u001b[0m\u001b[1;32m0\u001b[0m\u001b[1;32m0\u001b[0m\u001b[1;32m0\u001b[0m\u001b[1;32m0\u001b[0m\u001b[1;32m0\u001b[0m\u001b[1;32m0\u001b[0m\u001b[1;32m0\u001b[0m\u001b[1;32m0\u001b[0m\u001b[1;32m0\u001b[0m\u001b[1;32m0\u001b[0m\u001b[1;32m0\u001b[0m\u001b[1;32m0\u001b[0m\u001b[1;32m0\u001b[0m\u001b[1;32m0\u001b[0m\u001b[1;32m0\u001b[0m\u001b[1;32m0\u001b[0m\u001b[1;32m0\u001b[0m\u001b[1;32m0\u001b[0m\u001b[1;32m0\u001b[0m\u001b[1;32m0\u001b[0m\n",
            "\u001b[1;32m0\u001b[0m\u001b[1;32m0\u001b[0m\u001b[1;32m0\u001b[0m\u001b[1;32m0\u001b[0m\u001b[1;32m0\u001b[0m\u001b[1;32m0\u001b[0m\u001b[1;32m0\u001b[0m\u001b[1;32m0\u001b[0m\u001b[1;32m0\u001b[0m\u001b[1;32m0\u001b[0m\u001b[1;32m0\u001b[0m\u001b[1;32m0\u001b[0m\u001b[1;32m0\u001b[0m\u001b[1;32m0\u001b[0m\u001b[1;32m0\u001b[0m\u001b[1;32m0\u001b[0m\u001b[1;32m0\u001b[0m\u001b[1;32m0\u001b[0m\u001b[1;32m0\u001b[0m\u001b[1;32m0\u001b[0m\u001b[1;32m0\u001b[0m\u001b[1;32m0\u001b[0m\u001b[1;32m0\u001b[0m\u001b[1;32m0\u001b[0m\u001b[1;32m0\u001b[0m\u001b[1;32m0\u001b[0m\u001b[1;32m0\u001b[0m\u001b[1;32m0\u001b[0m\n",
            "\n",
            "\n",
            "\n",
            "Actual Class  4\n",
            "Predicted Class 5\n",
            "\u001b[1;32m0\u001b[0m\u001b[1;32m0\u001b[0m\u001b[1;32m0\u001b[0m\u001b[1;32m0\u001b[0m\u001b[1;32m0\u001b[0m\u001b[1;32m0\u001b[0m\u001b[1;32m0\u001b[0m\u001b[1;32m0\u001b[0m\u001b[1;32m0\u001b[0m\u001b[1;32m0\u001b[0m\u001b[1;32m0\u001b[0m\u001b[1;32m0\u001b[0m\u001b[1;32m0\u001b[0m\u001b[1;32m0\u001b[0m\u001b[1;32m0\u001b[0m\u001b[1;32m0\u001b[0m\u001b[1;32m0\u001b[0m\u001b[1;32m0\u001b[0m\u001b[1;32m0\u001b[0m\u001b[1;32m0\u001b[0m\u001b[1;32m0\u001b[0m\u001b[1;32m0\u001b[0m\u001b[1;32m0\u001b[0m\u001b[1;32m0\u001b[0m\u001b[1;32m0\u001b[0m\u001b[1;32m0\u001b[0m\u001b[1;32m0\u001b[0m\u001b[1;32m0\u001b[0m\n",
            "\u001b[1;32m0\u001b[0m\u001b[1;32m0\u001b[0m\u001b[1;32m0\u001b[0m\u001b[1;32m0\u001b[0m\u001b[1;32m0\u001b[0m\u001b[1;32m0\u001b[0m\u001b[1;32m0\u001b[0m\u001b[1;32m0\u001b[0m\u001b[1;32m0\u001b[0m\u001b[1;32m0\u001b[0m\u001b[1;32m0\u001b[0m\u001b[1;32m0\u001b[0m\u001b[1;32m0\u001b[0m\u001b[1;32m0\u001b[0m\u001b[1;32m0\u001b[0m\u001b[1;32m0\u001b[0m\u001b[1;32m0\u001b[0m\u001b[1;32m0\u001b[0m\u001b[1;32m0\u001b[0m\u001b[1;32m0\u001b[0m\u001b[1;32m0\u001b[0m\u001b[1;32m0\u001b[0m\u001b[1;32m0\u001b[0m\u001b[1;32m0\u001b[0m\u001b[1;32m0\u001b[0m\u001b[1;32m0\u001b[0m\u001b[1;32m0\u001b[0m\u001b[1;32m0\u001b[0m\n",
            "\u001b[1;32m0\u001b[0m\u001b[1;32m0\u001b[0m\u001b[1;32m0\u001b[0m\u001b[1;32m0\u001b[0m\u001b[1;32m0\u001b[0m\u001b[1;32m0\u001b[0m\u001b[1;32m0\u001b[0m\u001b[1;32m0\u001b[0m\u001b[1;32m0\u001b[0m\u001b[1;32m0\u001b[0m\u001b[1;32m0\u001b[0m\u001b[1;32m0\u001b[0m\u001b[1;32m0\u001b[0m\u001b[1;32m0\u001b[0m\u001b[1;32m0\u001b[0m\u001b[1;32m0\u001b[0m\u001b[1;32m0\u001b[0m\u001b[1;32m0\u001b[0m\u001b[1;32m0\u001b[0m\u001b[1;32m0\u001b[0m\u001b[1;32m0\u001b[0m\u001b[1;32m0\u001b[0m\u001b[1;32m0\u001b[0m\u001b[1;32m0\u001b[0m\u001b[1;32m0\u001b[0m\u001b[1;32m0\u001b[0m\u001b[1;32m0\u001b[0m\u001b[1;32m0\u001b[0m\n",
            "\u001b[1;32m0\u001b[0m\u001b[1;32m0\u001b[0m\u001b[1;32m0\u001b[0m\u001b[1;32m0\u001b[0m\u001b[1;32m0\u001b[0m\u001b[1;32m0\u001b[0m\u001b[1;32m0\u001b[0m\u001b[1;32m0\u001b[0m\u001b[1;32m0\u001b[0m\u001b[1;32m0\u001b[0m\u001b[1;32m0\u001b[0m\u001b[1;32m0\u001b[0m\u001b[1;32m0\u001b[0m\u001b[1;32m0\u001b[0m\u001b[1;32m0\u001b[0m\u001b[1;32m0\u001b[0m\u001b[1;32m0\u001b[0m\u001b[1;32m0\u001b[0m\u001b[1;32m0\u001b[0m\u001b[1;32m0\u001b[0m\u001b[1;32m0\u001b[0m\u001b[1;32m0\u001b[0m\u001b[1;32m0\u001b[0m\u001b[1;32m0\u001b[0m\u001b[1;32m0\u001b[0m\u001b[1;32m0\u001b[0m\u001b[1;32m0\u001b[0m\u001b[1;32m0\u001b[0m\n",
            "\u001b[1;32m0\u001b[0m\u001b[1;32m0\u001b[0m\u001b[1;32m0\u001b[0m\u001b[1;32m0\u001b[0m\u001b[1;32m0\u001b[0m\u001b[1;32m0\u001b[0m\u001b[1;32m0\u001b[0m\u001b[1;32m0\u001b[0m\u001b[1;32m0\u001b[0m\u001b[1;32m0\u001b[0m\u001b[1;32m0\u001b[0m\u001b[1;32m0\u001b[0m\u001b[1;32m0\u001b[0m\u001b[1;32m0\u001b[0m\u001b[1;32m0\u001b[0m\u001b[1;32m0\u001b[0m\u001b[1;32m0\u001b[0m\u001b[1;32m0\u001b[0m\u001b[1;32m0\u001b[0m\u001b[1;32m0\u001b[0m\u001b[1;32m0\u001b[0m\u001b[1;32m0\u001b[0m\u001b[1;32m0\u001b[0m\u001b[1;32m0\u001b[0m\u001b[1;32m0\u001b[0m\u001b[1;32m0\u001b[0m\u001b[1;32m0\u001b[0m\u001b[1;32m0\u001b[0m\n",
            "\u001b[1;32m0\u001b[0m\u001b[1;32m0\u001b[0m\u001b[1;32m0\u001b[0m\u001b[1;32m0\u001b[0m\u001b[1;32m0\u001b[0m\u001b[1;32m0\u001b[0m\u001b[1;32m0\u001b[0m\u001b[1;32m0\u001b[0m\u001b[1;32m0\u001b[0m\u001b[1;32m0\u001b[0m\u001b[1;32m0\u001b[0m\u001b[1;32m0\u001b[0m\u001b[1;32m0\u001b[0m\u001b[1;32m0\u001b[0m\u001b[1;32m0\u001b[0m\u001b[1;32m0\u001b[0m\u001b[1;32m0\u001b[0m\u001b[1;32m0\u001b[0m\u001b[1;32m0\u001b[0m\u001b[1;32m0\u001b[0m\u001b[1;32m0\u001b[0m\u001b[1;32m0\u001b[0m\u001b[1;32m0\u001b[0m\u001b[1;32m0\u001b[0m\u001b[1;32m0\u001b[0m\u001b[1;32m0\u001b[0m\u001b[1;32m0\u001b[0m\u001b[1;32m0\u001b[0m\n",
            "\u001b[1;32m0\u001b[0m\u001b[1;32m0\u001b[0m\u001b[1;32m0\u001b[0m\u001b[1;32m0\u001b[0m\u001b[1;32m0\u001b[0m\u001b[1;32m0\u001b[0m\u001b[1;32m0\u001b[0m\u001b[1;32m0\u001b[0m\u001b[1;32m0\u001b[0m\u001b[1;32m0\u001b[0m\u001b[1;32m0\u001b[0m\u001b[1;32m0\u001b[0m\u001b[1;32m0\u001b[0m\u001b[1;32m0\u001b[0m\u001b[1;32m0\u001b[0m\u001b[1;32m0\u001b[0m\u001b[1;32m0\u001b[0m\u001b[1;32m0\u001b[0m\u001b[1;32m0\u001b[0m\u001b[1;32m0\u001b[0m\u001b[1;32m0\u001b[0m\u001b[1;32m0\u001b[0m\u001b[1;32m0\u001b[0m\u001b[1;32m0\u001b[0m\u001b[1;32m0\u001b[0m\u001b[1;32m0\u001b[0m\u001b[1;32m0\u001b[0m\u001b[1;32m0\u001b[0m\n",
            "\u001b[1;32m0\u001b[0m\u001b[1;32m0\u001b[0m\u001b[1;32m0\u001b[0m\u001b[1;32m0\u001b[0m\u001b[1;32m0\u001b[0m\u001b[1;32m0\u001b[0m\u001b[1;32m0\u001b[0m\u001b[1;32m0\u001b[0m\u001b[1;32m0\u001b[0m\u001b[1;32m0\u001b[0m\u001b[1;32m0\u001b[0m\u001b[1;32m0\u001b[0m\u001b[1;32m0\u001b[0m\u001b[1;32m0\u001b[0m\u001b[1;32m0\u001b[0m\u001b[1;35m1\u001b[0m\u001b[1;35m1\u001b[0m\u001b[1;35m1\u001b[0m\u001b[1;35m1\u001b[0m\u001b[1;35m1\u001b[0m\u001b[1;35m1\u001b[0m\u001b[1;32m0\u001b[0m\u001b[1;32m0\u001b[0m\u001b[1;32m0\u001b[0m\u001b[1;32m0\u001b[0m\u001b[1;32m0\u001b[0m\u001b[1;32m0\u001b[0m\u001b[1;32m0\u001b[0m\n",
            "\u001b[1;32m0\u001b[0m\u001b[1;32m0\u001b[0m\u001b[1;32m0\u001b[0m\u001b[1;32m0\u001b[0m\u001b[1;32m0\u001b[0m\u001b[1;32m0\u001b[0m\u001b[1;32m0\u001b[0m\u001b[1;32m0\u001b[0m\u001b[1;32m0\u001b[0m\u001b[1;32m0\u001b[0m\u001b[1;32m0\u001b[0m\u001b[1;32m0\u001b[0m\u001b[1;35m1\u001b[0m\u001b[1;35m1\u001b[0m\u001b[1;35m1\u001b[0m\u001b[1;35m1\u001b[0m\u001b[1;35m1\u001b[0m\u001b[1;35m1\u001b[0m\u001b[1;35m1\u001b[0m\u001b[1;35m1\u001b[0m\u001b[1;35m1\u001b[0m\u001b[1;35m1\u001b[0m\u001b[1;32m0\u001b[0m\u001b[1;32m0\u001b[0m\u001b[1;32m0\u001b[0m\u001b[1;32m0\u001b[0m\u001b[1;32m0\u001b[0m\u001b[1;32m0\u001b[0m\n",
            "\u001b[1;32m0\u001b[0m\u001b[1;32m0\u001b[0m\u001b[1;32m0\u001b[0m\u001b[1;32m0\u001b[0m\u001b[1;32m0\u001b[0m\u001b[1;32m0\u001b[0m\u001b[1;32m0\u001b[0m\u001b[1;32m0\u001b[0m\u001b[1;35m1\u001b[0m\u001b[1;35m1\u001b[0m\u001b[1;35m1\u001b[0m\u001b[1;35m1\u001b[0m\u001b[1;35m1\u001b[0m\u001b[1;35m1\u001b[0m\u001b[1;35m1\u001b[0m\u001b[1;35m1\u001b[0m\u001b[1;35m1\u001b[0m\u001b[1;35m1\u001b[0m\u001b[1;35m1\u001b[0m\u001b[1;35m1\u001b[0m\u001b[1;35m1\u001b[0m\u001b[1;35m1\u001b[0m\u001b[1;32m0\u001b[0m\u001b[1;32m0\u001b[0m\u001b[1;32m0\u001b[0m\u001b[1;32m0\u001b[0m\u001b[1;32m0\u001b[0m\u001b[1;32m0\u001b[0m\n",
            "\u001b[1;32m0\u001b[0m\u001b[1;32m0\u001b[0m\u001b[1;32m0\u001b[0m\u001b[1;32m0\u001b[0m\u001b[1;32m0\u001b[0m\u001b[1;32m0\u001b[0m\u001b[1;32m0\u001b[0m\u001b[1;35m1\u001b[0m\u001b[1;35m1\u001b[0m\u001b[1;35m1\u001b[0m\u001b[1;35m1\u001b[0m\u001b[1;35m1\u001b[0m\u001b[1;35m1\u001b[0m\u001b[1;35m1\u001b[0m\u001b[1;35m1\u001b[0m\u001b[1;35m1\u001b[0m\u001b[1;35m1\u001b[0m\u001b[1;35m1\u001b[0m\u001b[1;35m1\u001b[0m\u001b[1;35m1\u001b[0m\u001b[1;35m1\u001b[0m\u001b[1;35m1\u001b[0m\u001b[1;32m0\u001b[0m\u001b[1;32m0\u001b[0m\u001b[1;32m0\u001b[0m\u001b[1;32m0\u001b[0m\u001b[1;32m0\u001b[0m\u001b[1;32m0\u001b[0m\n",
            "\u001b[1;32m0\u001b[0m\u001b[1;32m0\u001b[0m\u001b[1;32m0\u001b[0m\u001b[1;32m0\u001b[0m\u001b[1;32m0\u001b[0m\u001b[1;32m0\u001b[0m\u001b[1;32m0\u001b[0m\u001b[1;35m1\u001b[0m\u001b[1;35m1\u001b[0m\u001b[1;35m1\u001b[0m\u001b[1;35m1\u001b[0m\u001b[1;35m1\u001b[0m\u001b[1;35m1\u001b[0m\u001b[1;35m1\u001b[0m\u001b[1;32m0\u001b[0m\u001b[1;32m0\u001b[0m\u001b[1;32m0\u001b[0m\u001b[1;35m1\u001b[0m\u001b[1;35m1\u001b[0m\u001b[1;35m1\u001b[0m\u001b[1;35m1\u001b[0m\u001b[1;35m1\u001b[0m\u001b[1;32m0\u001b[0m\u001b[1;32m0\u001b[0m\u001b[1;32m0\u001b[0m\u001b[1;32m0\u001b[0m\u001b[1;32m0\u001b[0m\u001b[1;32m0\u001b[0m\n",
            "\u001b[1;32m0\u001b[0m\u001b[1;32m0\u001b[0m\u001b[1;32m0\u001b[0m\u001b[1;32m0\u001b[0m\u001b[1;32m0\u001b[0m\u001b[1;32m0\u001b[0m\u001b[1;35m1\u001b[0m\u001b[1;35m1\u001b[0m\u001b[1;35m1\u001b[0m\u001b[1;35m1\u001b[0m\u001b[1;35m1\u001b[0m\u001b[1;35m1\u001b[0m\u001b[1;32m0\u001b[0m\u001b[1;32m0\u001b[0m\u001b[1;32m0\u001b[0m\u001b[1;32m0\u001b[0m\u001b[1;32m0\u001b[0m\u001b[1;35m1\u001b[0m\u001b[1;35m1\u001b[0m\u001b[1;35m1\u001b[0m\u001b[1;35m1\u001b[0m\u001b[1;32m0\u001b[0m\u001b[1;32m0\u001b[0m\u001b[1;32m0\u001b[0m\u001b[1;32m0\u001b[0m\u001b[1;32m0\u001b[0m\u001b[1;32m0\u001b[0m\u001b[1;32m0\u001b[0m\n",
            "\u001b[1;32m0\u001b[0m\u001b[1;32m0\u001b[0m\u001b[1;32m0\u001b[0m\u001b[1;32m0\u001b[0m\u001b[1;32m0\u001b[0m\u001b[1;32m0\u001b[0m\u001b[1;35m1\u001b[0m\u001b[1;35m1\u001b[0m\u001b[1;35m1\u001b[0m\u001b[1;35m1\u001b[0m\u001b[1;35m1\u001b[0m\u001b[1;32m0\u001b[0m\u001b[1;32m0\u001b[0m\u001b[1;32m0\u001b[0m\u001b[1;32m0\u001b[0m\u001b[1;35m1\u001b[0m\u001b[1;35m1\u001b[0m\u001b[1;35m1\u001b[0m\u001b[1;35m1\u001b[0m\u001b[1;35m1\u001b[0m\u001b[1;35m1\u001b[0m\u001b[1;32m0\u001b[0m\u001b[1;32m0\u001b[0m\u001b[1;32m0\u001b[0m\u001b[1;32m0\u001b[0m\u001b[1;32m0\u001b[0m\u001b[1;32m0\u001b[0m\u001b[1;32m0\u001b[0m\n",
            "\u001b[1;32m0\u001b[0m\u001b[1;32m0\u001b[0m\u001b[1;32m0\u001b[0m\u001b[1;32m0\u001b[0m\u001b[1;32m0\u001b[0m\u001b[1;32m0\u001b[0m\u001b[1;35m1\u001b[0m\u001b[1;35m1\u001b[0m\u001b[1;35m1\u001b[0m\u001b[1;35m1\u001b[0m\u001b[1;32m0\u001b[0m\u001b[1;32m0\u001b[0m\u001b[1;32m0\u001b[0m\u001b[1;32m0\u001b[0m\u001b[1;32m0\u001b[0m\u001b[1;35m1\u001b[0m\u001b[1;35m1\u001b[0m\u001b[1;35m1\u001b[0m\u001b[1;35m1\u001b[0m\u001b[1;35m1\u001b[0m\u001b[1;32m0\u001b[0m\u001b[1;32m0\u001b[0m\u001b[1;32m0\u001b[0m\u001b[1;32m0\u001b[0m\u001b[1;32m0\u001b[0m\u001b[1;32m0\u001b[0m\u001b[1;32m0\u001b[0m\u001b[1;32m0\u001b[0m\n",
            "\u001b[1;32m0\u001b[0m\u001b[1;32m0\u001b[0m\u001b[1;32m0\u001b[0m\u001b[1;32m0\u001b[0m\u001b[1;32m0\u001b[0m\u001b[1;32m0\u001b[0m\u001b[1;32m0\u001b[0m\u001b[1;32m0\u001b[0m\u001b[1;32m0\u001b[0m\u001b[1;32m0\u001b[0m\u001b[1;32m0\u001b[0m\u001b[1;32m0\u001b[0m\u001b[1;32m0\u001b[0m\u001b[1;32m0\u001b[0m\u001b[1;35m1\u001b[0m\u001b[1;35m1\u001b[0m\u001b[1;35m1\u001b[0m\u001b[1;35m1\u001b[0m\u001b[1;35m1\u001b[0m\u001b[1;32m0\u001b[0m\u001b[1;32m0\u001b[0m\u001b[1;32m0\u001b[0m\u001b[1;32m0\u001b[0m\u001b[1;32m0\u001b[0m\u001b[1;32m0\u001b[0m\u001b[1;32m0\u001b[0m\u001b[1;32m0\u001b[0m\u001b[1;32m0\u001b[0m\n",
            "\u001b[1;32m0\u001b[0m\u001b[1;32m0\u001b[0m\u001b[1;32m0\u001b[0m\u001b[1;32m0\u001b[0m\u001b[1;32m0\u001b[0m\u001b[1;32m0\u001b[0m\u001b[1;32m0\u001b[0m\u001b[1;32m0\u001b[0m\u001b[1;32m0\u001b[0m\u001b[1;32m0\u001b[0m\u001b[1;32m0\u001b[0m\u001b[1;32m0\u001b[0m\u001b[1;32m0\u001b[0m\u001b[1;32m0\u001b[0m\u001b[1;35m1\u001b[0m\u001b[1;35m1\u001b[0m\u001b[1;35m1\u001b[0m\u001b[1;35m1\u001b[0m\u001b[1;32m0\u001b[0m\u001b[1;32m0\u001b[0m\u001b[1;32m0\u001b[0m\u001b[1;32m0\u001b[0m\u001b[1;32m0\u001b[0m\u001b[1;32m0\u001b[0m\u001b[1;32m0\u001b[0m\u001b[1;32m0\u001b[0m\u001b[1;32m0\u001b[0m\u001b[1;32m0\u001b[0m\n",
            "\u001b[1;32m0\u001b[0m\u001b[1;32m0\u001b[0m\u001b[1;32m0\u001b[0m\u001b[1;32m0\u001b[0m\u001b[1;32m0\u001b[0m\u001b[1;32m0\u001b[0m\u001b[1;32m0\u001b[0m\u001b[1;32m0\u001b[0m\u001b[1;32m0\u001b[0m\u001b[1;32m0\u001b[0m\u001b[1;32m0\u001b[0m\u001b[1;32m0\u001b[0m\u001b[1;32m0\u001b[0m\u001b[1;35m1\u001b[0m\u001b[1;35m1\u001b[0m\u001b[1;35m1\u001b[0m\u001b[1;35m1\u001b[0m\u001b[1;35m1\u001b[0m\u001b[1;32m0\u001b[0m\u001b[1;32m0\u001b[0m\u001b[1;32m0\u001b[0m\u001b[1;32m0\u001b[0m\u001b[1;32m0\u001b[0m\u001b[1;32m0\u001b[0m\u001b[1;32m0\u001b[0m\u001b[1;32m0\u001b[0m\u001b[1;32m0\u001b[0m\u001b[1;32m0\u001b[0m\n",
            "\u001b[1;32m0\u001b[0m\u001b[1;32m0\u001b[0m\u001b[1;32m0\u001b[0m\u001b[1;32m0\u001b[0m\u001b[1;32m0\u001b[0m\u001b[1;32m0\u001b[0m\u001b[1;32m0\u001b[0m\u001b[1;32m0\u001b[0m\u001b[1;32m0\u001b[0m\u001b[1;32m0\u001b[0m\u001b[1;32m0\u001b[0m\u001b[1;32m0\u001b[0m\u001b[1;35m1\u001b[0m\u001b[1;35m1\u001b[0m\u001b[1;35m1\u001b[0m\u001b[1;35m1\u001b[0m\u001b[1;35m1\u001b[0m\u001b[1;35m1\u001b[0m\u001b[1;32m0\u001b[0m\u001b[1;32m0\u001b[0m\u001b[1;32m0\u001b[0m\u001b[1;32m0\u001b[0m\u001b[1;32m0\u001b[0m\u001b[1;32m0\u001b[0m\u001b[1;32m0\u001b[0m\u001b[1;32m0\u001b[0m\u001b[1;32m0\u001b[0m\u001b[1;32m0\u001b[0m\n",
            "\u001b[1;32m0\u001b[0m\u001b[1;32m0\u001b[0m\u001b[1;32m0\u001b[0m\u001b[1;32m0\u001b[0m\u001b[1;32m0\u001b[0m\u001b[1;32m0\u001b[0m\u001b[1;32m0\u001b[0m\u001b[1;32m0\u001b[0m\u001b[1;32m0\u001b[0m\u001b[1;32m0\u001b[0m\u001b[1;32m0\u001b[0m\u001b[1;35m1\u001b[0m\u001b[1;35m1\u001b[0m\u001b[1;35m1\u001b[0m\u001b[1;35m1\u001b[0m\u001b[1;35m1\u001b[0m\u001b[1;35m1\u001b[0m\u001b[1;32m0\u001b[0m\u001b[1;32m0\u001b[0m\u001b[1;32m0\u001b[0m\u001b[1;32m0\u001b[0m\u001b[1;32m0\u001b[0m\u001b[1;32m0\u001b[0m\u001b[1;32m0\u001b[0m\u001b[1;32m0\u001b[0m\u001b[1;32m0\u001b[0m\u001b[1;32m0\u001b[0m\u001b[1;32m0\u001b[0m\n",
            "\u001b[1;32m0\u001b[0m\u001b[1;32m0\u001b[0m\u001b[1;32m0\u001b[0m\u001b[1;32m0\u001b[0m\u001b[1;32m0\u001b[0m\u001b[1;32m0\u001b[0m\u001b[1;32m0\u001b[0m\u001b[1;32m0\u001b[0m\u001b[1;32m0\u001b[0m\u001b[1;32m0\u001b[0m\u001b[1;35m1\u001b[0m\u001b[1;35m1\u001b[0m\u001b[1;35m1\u001b[0m\u001b[1;35m1\u001b[0m\u001b[1;35m1\u001b[0m\u001b[1;35m1\u001b[0m\u001b[1;32m0\u001b[0m\u001b[1;32m0\u001b[0m\u001b[1;32m0\u001b[0m\u001b[1;32m0\u001b[0m\u001b[1;32m0\u001b[0m\u001b[1;32m0\u001b[0m\u001b[1;32m0\u001b[0m\u001b[1;32m0\u001b[0m\u001b[1;32m0\u001b[0m\u001b[1;32m0\u001b[0m\u001b[1;32m0\u001b[0m\u001b[1;32m0\u001b[0m\n",
            "\u001b[1;32m0\u001b[0m\u001b[1;32m0\u001b[0m\u001b[1;32m0\u001b[0m\u001b[1;32m0\u001b[0m\u001b[1;32m0\u001b[0m\u001b[1;32m0\u001b[0m\u001b[1;32m0\u001b[0m\u001b[1;32m0\u001b[0m\u001b[1;32m0\u001b[0m\u001b[1;32m0\u001b[0m\u001b[1;35m1\u001b[0m\u001b[1;35m1\u001b[0m\u001b[1;35m1\u001b[0m\u001b[1;35m1\u001b[0m\u001b[1;32m0\u001b[0m\u001b[1;32m0\u001b[0m\u001b[1;32m0\u001b[0m\u001b[1;32m0\u001b[0m\u001b[1;32m0\u001b[0m\u001b[1;32m0\u001b[0m\u001b[1;32m0\u001b[0m\u001b[1;32m0\u001b[0m\u001b[1;32m0\u001b[0m\u001b[1;32m0\u001b[0m\u001b[1;32m0\u001b[0m\u001b[1;32m0\u001b[0m\u001b[1;32m0\u001b[0m\u001b[1;32m0\u001b[0m\n",
            "\u001b[1;32m0\u001b[0m\u001b[1;32m0\u001b[0m\u001b[1;32m0\u001b[0m\u001b[1;32m0\u001b[0m\u001b[1;32m0\u001b[0m\u001b[1;32m0\u001b[0m\u001b[1;32m0\u001b[0m\u001b[1;32m0\u001b[0m\u001b[1;32m0\u001b[0m\u001b[1;35m1\u001b[0m\u001b[1;35m1\u001b[0m\u001b[1;35m1\u001b[0m\u001b[1;35m1\u001b[0m\u001b[1;35m1\u001b[0m\u001b[1;32m0\u001b[0m\u001b[1;32m0\u001b[0m\u001b[1;32m0\u001b[0m\u001b[1;32m0\u001b[0m\u001b[1;32m0\u001b[0m\u001b[1;32m0\u001b[0m\u001b[1;32m0\u001b[0m\u001b[1;32m0\u001b[0m\u001b[1;32m0\u001b[0m\u001b[1;32m0\u001b[0m\u001b[1;32m0\u001b[0m\u001b[1;32m0\u001b[0m\u001b[1;32m0\u001b[0m\u001b[1;32m0\u001b[0m\n",
            "\u001b[1;32m0\u001b[0m\u001b[1;32m0\u001b[0m\u001b[1;32m0\u001b[0m\u001b[1;32m0\u001b[0m\u001b[1;32m0\u001b[0m\u001b[1;32m0\u001b[0m\u001b[1;32m0\u001b[0m\u001b[1;32m0\u001b[0m\u001b[1;32m0\u001b[0m\u001b[1;35m1\u001b[0m\u001b[1;35m1\u001b[0m\u001b[1;35m1\u001b[0m\u001b[1;35m1\u001b[0m\u001b[1;32m0\u001b[0m\u001b[1;32m0\u001b[0m\u001b[1;32m0\u001b[0m\u001b[1;32m0\u001b[0m\u001b[1;32m0\u001b[0m\u001b[1;32m0\u001b[0m\u001b[1;32m0\u001b[0m\u001b[1;32m0\u001b[0m\u001b[1;32m0\u001b[0m\u001b[1;32m0\u001b[0m\u001b[1;32m0\u001b[0m\u001b[1;32m0\u001b[0m\u001b[1;32m0\u001b[0m\u001b[1;32m0\u001b[0m\u001b[1;32m0\u001b[0m\n",
            "\u001b[1;32m0\u001b[0m\u001b[1;32m0\u001b[0m\u001b[1;32m0\u001b[0m\u001b[1;32m0\u001b[0m\u001b[1;32m0\u001b[0m\u001b[1;32m0\u001b[0m\u001b[1;32m0\u001b[0m\u001b[1;32m0\u001b[0m\u001b[1;35m1\u001b[0m\u001b[1;35m1\u001b[0m\u001b[1;35m1\u001b[0m\u001b[1;35m1\u001b[0m\u001b[1;35m1\u001b[0m\u001b[1;32m0\u001b[0m\u001b[1;32m0\u001b[0m\u001b[1;32m0\u001b[0m\u001b[1;32m0\u001b[0m\u001b[1;32m0\u001b[0m\u001b[1;32m0\u001b[0m\u001b[1;32m0\u001b[0m\u001b[1;32m0\u001b[0m\u001b[1;32m0\u001b[0m\u001b[1;32m0\u001b[0m\u001b[1;32m0\u001b[0m\u001b[1;32m0\u001b[0m\u001b[1;32m0\u001b[0m\u001b[1;32m0\u001b[0m\u001b[1;32m0\u001b[0m\n",
            "\u001b[1;32m0\u001b[0m\u001b[1;32m0\u001b[0m\u001b[1;32m0\u001b[0m\u001b[1;32m0\u001b[0m\u001b[1;32m0\u001b[0m\u001b[1;32m0\u001b[0m\u001b[1;32m0\u001b[0m\u001b[1;32m0\u001b[0m\u001b[1;35m1\u001b[0m\u001b[1;35m1\u001b[0m\u001b[1;35m1\u001b[0m\u001b[1;35m1\u001b[0m\u001b[1;32m0\u001b[0m\u001b[1;32m0\u001b[0m\u001b[1;32m0\u001b[0m\u001b[1;32m0\u001b[0m\u001b[1;32m0\u001b[0m\u001b[1;32m0\u001b[0m\u001b[1;32m0\u001b[0m\u001b[1;32m0\u001b[0m\u001b[1;32m0\u001b[0m\u001b[1;32m0\u001b[0m\u001b[1;32m0\u001b[0m\u001b[1;32m0\u001b[0m\u001b[1;32m0\u001b[0m\u001b[1;32m0\u001b[0m\u001b[1;32m0\u001b[0m\u001b[1;32m0\u001b[0m\n",
            "\u001b[1;32m0\u001b[0m\u001b[1;32m0\u001b[0m\u001b[1;32m0\u001b[0m\u001b[1;32m0\u001b[0m\u001b[1;32m0\u001b[0m\u001b[1;32m0\u001b[0m\u001b[1;32m0\u001b[0m\u001b[1;32m0\u001b[0m\u001b[1;35m1\u001b[0m\u001b[1;35m1\u001b[0m\u001b[1;35m1\u001b[0m\u001b[1;32m0\u001b[0m\u001b[1;32m0\u001b[0m\u001b[1;32m0\u001b[0m\u001b[1;32m0\u001b[0m\u001b[1;32m0\u001b[0m\u001b[1;32m0\u001b[0m\u001b[1;32m0\u001b[0m\u001b[1;32m0\u001b[0m\u001b[1;32m0\u001b[0m\u001b[1;32m0\u001b[0m\u001b[1;32m0\u001b[0m\u001b[1;32m0\u001b[0m\u001b[1;32m0\u001b[0m\u001b[1;32m0\u001b[0m\u001b[1;32m0\u001b[0m\u001b[1;32m0\u001b[0m\u001b[1;32m0\u001b[0m\n",
            "\u001b[1;32m0\u001b[0m\u001b[1;32m0\u001b[0m\u001b[1;32m0\u001b[0m\u001b[1;32m0\u001b[0m\u001b[1;32m0\u001b[0m\u001b[1;32m0\u001b[0m\u001b[1;32m0\u001b[0m\u001b[1;32m0\u001b[0m\u001b[1;32m0\u001b[0m\u001b[1;32m0\u001b[0m\u001b[1;32m0\u001b[0m\u001b[1;32m0\u001b[0m\u001b[1;32m0\u001b[0m\u001b[1;32m0\u001b[0m\u001b[1;32m0\u001b[0m\u001b[1;32m0\u001b[0m\u001b[1;32m0\u001b[0m\u001b[1;32m0\u001b[0m\u001b[1;32m0\u001b[0m\u001b[1;32m0\u001b[0m\u001b[1;32m0\u001b[0m\u001b[1;32m0\u001b[0m\u001b[1;32m0\u001b[0m\u001b[1;32m0\u001b[0m\u001b[1;32m0\u001b[0m\u001b[1;32m0\u001b[0m\u001b[1;32m0\u001b[0m\u001b[1;32m0\u001b[0m\n",
            "\n",
            "\n",
            "\n",
            "Actual Class  3\n",
            "Predicted Class 5\n",
            "\u001b[1;32m0\u001b[0m\u001b[1;32m0\u001b[0m\u001b[1;32m0\u001b[0m\u001b[1;32m0\u001b[0m\u001b[1;32m0\u001b[0m\u001b[1;32m0\u001b[0m\u001b[1;32m0\u001b[0m\u001b[1;32m0\u001b[0m\u001b[1;32m0\u001b[0m\u001b[1;32m0\u001b[0m\u001b[1;32m0\u001b[0m\u001b[1;32m0\u001b[0m\u001b[1;32m0\u001b[0m\u001b[1;32m0\u001b[0m\u001b[1;32m0\u001b[0m\u001b[1;32m0\u001b[0m\u001b[1;32m0\u001b[0m\u001b[1;32m0\u001b[0m\u001b[1;32m0\u001b[0m\u001b[1;32m0\u001b[0m\u001b[1;32m0\u001b[0m\u001b[1;32m0\u001b[0m\u001b[1;32m0\u001b[0m\u001b[1;32m0\u001b[0m\u001b[1;32m0\u001b[0m\u001b[1;32m0\u001b[0m\u001b[1;32m0\u001b[0m\u001b[1;32m0\u001b[0m\n",
            "\u001b[1;32m0\u001b[0m\u001b[1;32m0\u001b[0m\u001b[1;32m0\u001b[0m\u001b[1;32m0\u001b[0m\u001b[1;32m0\u001b[0m\u001b[1;32m0\u001b[0m\u001b[1;32m0\u001b[0m\u001b[1;32m0\u001b[0m\u001b[1;32m0\u001b[0m\u001b[1;32m0\u001b[0m\u001b[1;32m0\u001b[0m\u001b[1;32m0\u001b[0m\u001b[1;32m0\u001b[0m\u001b[1;32m0\u001b[0m\u001b[1;32m0\u001b[0m\u001b[1;32m0\u001b[0m\u001b[1;32m0\u001b[0m\u001b[1;32m0\u001b[0m\u001b[1;32m0\u001b[0m\u001b[1;32m0\u001b[0m\u001b[1;32m0\u001b[0m\u001b[1;32m0\u001b[0m\u001b[1;32m0\u001b[0m\u001b[1;32m0\u001b[0m\u001b[1;32m0\u001b[0m\u001b[1;32m0\u001b[0m\u001b[1;32m0\u001b[0m\u001b[1;32m0\u001b[0m\n",
            "\u001b[1;32m0\u001b[0m\u001b[1;32m0\u001b[0m\u001b[1;32m0\u001b[0m\u001b[1;32m0\u001b[0m\u001b[1;32m0\u001b[0m\u001b[1;32m0\u001b[0m\u001b[1;32m0\u001b[0m\u001b[1;32m0\u001b[0m\u001b[1;32m0\u001b[0m\u001b[1;32m0\u001b[0m\u001b[1;32m0\u001b[0m\u001b[1;32m0\u001b[0m\u001b[1;32m0\u001b[0m\u001b[1;32m0\u001b[0m\u001b[1;32m0\u001b[0m\u001b[1;32m0\u001b[0m\u001b[1;32m0\u001b[0m\u001b[1;32m0\u001b[0m\u001b[1;32m0\u001b[0m\u001b[1;32m0\u001b[0m\u001b[1;32m0\u001b[0m\u001b[1;32m0\u001b[0m\u001b[1;32m0\u001b[0m\u001b[1;32m0\u001b[0m\u001b[1;32m0\u001b[0m\u001b[1;32m0\u001b[0m\u001b[1;32m0\u001b[0m\u001b[1;32m0\u001b[0m\n",
            "\u001b[1;32m0\u001b[0m\u001b[1;32m0\u001b[0m\u001b[1;32m0\u001b[0m\u001b[1;32m0\u001b[0m\u001b[1;32m0\u001b[0m\u001b[1;32m0\u001b[0m\u001b[1;32m0\u001b[0m\u001b[1;32m0\u001b[0m\u001b[1;32m0\u001b[0m\u001b[1;32m0\u001b[0m\u001b[1;32m0\u001b[0m\u001b[1;32m0\u001b[0m\u001b[1;32m0\u001b[0m\u001b[1;32m0\u001b[0m\u001b[1;32m0\u001b[0m\u001b[1;32m0\u001b[0m\u001b[1;32m0\u001b[0m\u001b[1;32m0\u001b[0m\u001b[1;32m0\u001b[0m\u001b[1;32m0\u001b[0m\u001b[1;32m0\u001b[0m\u001b[1;32m0\u001b[0m\u001b[1;32m0\u001b[0m\u001b[1;32m0\u001b[0m\u001b[1;32m0\u001b[0m\u001b[1;32m0\u001b[0m\u001b[1;32m0\u001b[0m\u001b[1;32m0\u001b[0m\n",
            "\u001b[1;32m0\u001b[0m\u001b[1;32m0\u001b[0m\u001b[1;32m0\u001b[0m\u001b[1;32m0\u001b[0m\u001b[1;32m0\u001b[0m\u001b[1;32m0\u001b[0m\u001b[1;32m0\u001b[0m\u001b[1;32m0\u001b[0m\u001b[1;32m0\u001b[0m\u001b[1;32m0\u001b[0m\u001b[1;32m0\u001b[0m\u001b[1;32m0\u001b[0m\u001b[1;32m0\u001b[0m\u001b[1;32m0\u001b[0m\u001b[1;32m0\u001b[0m\u001b[1;32m0\u001b[0m\u001b[1;32m0\u001b[0m\u001b[1;32m0\u001b[0m\u001b[1;32m0\u001b[0m\u001b[1;32m0\u001b[0m\u001b[1;32m0\u001b[0m\u001b[1;32m0\u001b[0m\u001b[1;32m0\u001b[0m\u001b[1;32m0\u001b[0m\u001b[1;32m0\u001b[0m\u001b[1;32m0\u001b[0m\u001b[1;32m0\u001b[0m\u001b[1;32m0\u001b[0m\n",
            "\u001b[1;32m0\u001b[0m\u001b[1;32m0\u001b[0m\u001b[1;32m0\u001b[0m\u001b[1;32m0\u001b[0m\u001b[1;32m0\u001b[0m\u001b[1;32m0\u001b[0m\u001b[1;32m0\u001b[0m\u001b[1;32m0\u001b[0m\u001b[1;32m0\u001b[0m\u001b[1;32m0\u001b[0m\u001b[1;32m0\u001b[0m\u001b[1;35m1\u001b[0m\u001b[1;35m1\u001b[0m\u001b[1;35m1\u001b[0m\u001b[1;35m1\u001b[0m\u001b[1;35m1\u001b[0m\u001b[1;35m1\u001b[0m\u001b[1;35m1\u001b[0m\u001b[1;32m0\u001b[0m\u001b[1;32m0\u001b[0m\u001b[1;32m0\u001b[0m\u001b[1;32m0\u001b[0m\u001b[1;32m0\u001b[0m\u001b[1;32m0\u001b[0m\u001b[1;32m0\u001b[0m\u001b[1;32m0\u001b[0m\u001b[1;32m0\u001b[0m\u001b[1;32m0\u001b[0m\n",
            "\u001b[1;32m0\u001b[0m\u001b[1;32m0\u001b[0m\u001b[1;32m0\u001b[0m\u001b[1;32m0\u001b[0m\u001b[1;32m0\u001b[0m\u001b[1;32m0\u001b[0m\u001b[1;32m0\u001b[0m\u001b[1;32m0\u001b[0m\u001b[1;32m0\u001b[0m\u001b[1;35m1\u001b[0m\u001b[1;35m1\u001b[0m\u001b[1;35m1\u001b[0m\u001b[1;35m1\u001b[0m\u001b[1;35m1\u001b[0m\u001b[1;35m1\u001b[0m\u001b[1;35m1\u001b[0m\u001b[1;35m1\u001b[0m\u001b[1;35m1\u001b[0m\u001b[1;32m0\u001b[0m\u001b[1;32m0\u001b[0m\u001b[1;32m0\u001b[0m\u001b[1;32m0\u001b[0m\u001b[1;32m0\u001b[0m\u001b[1;32m0\u001b[0m\u001b[1;32m0\u001b[0m\u001b[1;32m0\u001b[0m\u001b[1;32m0\u001b[0m\u001b[1;32m0\u001b[0m\n",
            "\u001b[1;32m0\u001b[0m\u001b[1;32m0\u001b[0m\u001b[1;32m0\u001b[0m\u001b[1;32m0\u001b[0m\u001b[1;32m0\u001b[0m\u001b[1;32m0\u001b[0m\u001b[1;32m0\u001b[0m\u001b[1;32m0\u001b[0m\u001b[1;32m0\u001b[0m\u001b[1;35m1\u001b[0m\u001b[1;35m1\u001b[0m\u001b[1;35m1\u001b[0m\u001b[1;35m1\u001b[0m\u001b[1;32m0\u001b[0m\u001b[1;32m0\u001b[0m\u001b[1;35m1\u001b[0m\u001b[1;35m1\u001b[0m\u001b[1;35m1\u001b[0m\u001b[1;35m1\u001b[0m\u001b[1;32m0\u001b[0m\u001b[1;32m0\u001b[0m\u001b[1;32m0\u001b[0m\u001b[1;32m0\u001b[0m\u001b[1;32m0\u001b[0m\u001b[1;32m0\u001b[0m\u001b[1;32m0\u001b[0m\u001b[1;32m0\u001b[0m\u001b[1;32m0\u001b[0m\n",
            "\u001b[1;32m0\u001b[0m\u001b[1;32m0\u001b[0m\u001b[1;32m0\u001b[0m\u001b[1;32m0\u001b[0m\u001b[1;32m0\u001b[0m\u001b[1;32m0\u001b[0m\u001b[1;32m0\u001b[0m\u001b[1;32m0\u001b[0m\u001b[1;35m1\u001b[0m\u001b[1;35m1\u001b[0m\u001b[1;35m1\u001b[0m\u001b[1;32m0\u001b[0m\u001b[1;32m0\u001b[0m\u001b[1;32m0\u001b[0m\u001b[1;32m0\u001b[0m\u001b[1;32m0\u001b[0m\u001b[1;35m1\u001b[0m\u001b[1;35m1\u001b[0m\u001b[1;35m1\u001b[0m\u001b[1;32m0\u001b[0m\u001b[1;32m0\u001b[0m\u001b[1;32m0\u001b[0m\u001b[1;32m0\u001b[0m\u001b[1;32m0\u001b[0m\u001b[1;32m0\u001b[0m\u001b[1;32m0\u001b[0m\u001b[1;32m0\u001b[0m\u001b[1;32m0\u001b[0m\n",
            "\u001b[1;32m0\u001b[0m\u001b[1;32m0\u001b[0m\u001b[1;32m0\u001b[0m\u001b[1;32m0\u001b[0m\u001b[1;32m0\u001b[0m\u001b[1;32m0\u001b[0m\u001b[1;32m0\u001b[0m\u001b[1;32m0\u001b[0m\u001b[1;35m1\u001b[0m\u001b[1;35m1\u001b[0m\u001b[1;35m1\u001b[0m\u001b[1;32m0\u001b[0m\u001b[1;32m0\u001b[0m\u001b[1;32m0\u001b[0m\u001b[1;32m0\u001b[0m\u001b[1;32m0\u001b[0m\u001b[1;35m1\u001b[0m\u001b[1;35m1\u001b[0m\u001b[1;35m1\u001b[0m\u001b[1;35m1\u001b[0m\u001b[1;32m0\u001b[0m\u001b[1;32m0\u001b[0m\u001b[1;32m0\u001b[0m\u001b[1;32m0\u001b[0m\u001b[1;32m0\u001b[0m\u001b[1;32m0\u001b[0m\u001b[1;32m0\u001b[0m\u001b[1;32m0\u001b[0m\n",
            "\u001b[1;32m0\u001b[0m\u001b[1;32m0\u001b[0m\u001b[1;32m0\u001b[0m\u001b[1;32m0\u001b[0m\u001b[1;32m0\u001b[0m\u001b[1;32m0\u001b[0m\u001b[1;32m0\u001b[0m\u001b[1;32m0\u001b[0m\u001b[1;35m1\u001b[0m\u001b[1;35m1\u001b[0m\u001b[1;32m0\u001b[0m\u001b[1;32m0\u001b[0m\u001b[1;32m0\u001b[0m\u001b[1;32m0\u001b[0m\u001b[1;32m0\u001b[0m\u001b[1;32m0\u001b[0m\u001b[1;35m1\u001b[0m\u001b[1;35m1\u001b[0m\u001b[1;35m1\u001b[0m\u001b[1;35m1\u001b[0m\u001b[1;32m0\u001b[0m\u001b[1;32m0\u001b[0m\u001b[1;32m0\u001b[0m\u001b[1;32m0\u001b[0m\u001b[1;32m0\u001b[0m\u001b[1;32m0\u001b[0m\u001b[1;32m0\u001b[0m\u001b[1;32m0\u001b[0m\n",
            "\u001b[1;32m0\u001b[0m\u001b[1;32m0\u001b[0m\u001b[1;32m0\u001b[0m\u001b[1;32m0\u001b[0m\u001b[1;32m0\u001b[0m\u001b[1;32m0\u001b[0m\u001b[1;32m0\u001b[0m\u001b[1;32m0\u001b[0m\u001b[1;32m0\u001b[0m\u001b[1;32m0\u001b[0m\u001b[1;32m0\u001b[0m\u001b[1;32m0\u001b[0m\u001b[1;32m0\u001b[0m\u001b[1;32m0\u001b[0m\u001b[1;32m0\u001b[0m\u001b[1;32m0\u001b[0m\u001b[1;35m1\u001b[0m\u001b[1;35m1\u001b[0m\u001b[1;35m1\u001b[0m\u001b[1;35m1\u001b[0m\u001b[1;32m0\u001b[0m\u001b[1;32m0\u001b[0m\u001b[1;32m0\u001b[0m\u001b[1;32m0\u001b[0m\u001b[1;32m0\u001b[0m\u001b[1;32m0\u001b[0m\u001b[1;32m0\u001b[0m\u001b[1;32m0\u001b[0m\n",
            "\u001b[1;32m0\u001b[0m\u001b[1;32m0\u001b[0m\u001b[1;32m0\u001b[0m\u001b[1;32m0\u001b[0m\u001b[1;32m0\u001b[0m\u001b[1;32m0\u001b[0m\u001b[1;32m0\u001b[0m\u001b[1;32m0\u001b[0m\u001b[1;32m0\u001b[0m\u001b[1;32m0\u001b[0m\u001b[1;32m0\u001b[0m\u001b[1;32m0\u001b[0m\u001b[1;32m0\u001b[0m\u001b[1;32m0\u001b[0m\u001b[1;32m0\u001b[0m\u001b[1;32m0\u001b[0m\u001b[1;32m0\u001b[0m\u001b[1;35m1\u001b[0m\u001b[1;35m1\u001b[0m\u001b[1;35m1\u001b[0m\u001b[1;32m0\u001b[0m\u001b[1;32m0\u001b[0m\u001b[1;32m0\u001b[0m\u001b[1;32m0\u001b[0m\u001b[1;32m0\u001b[0m\u001b[1;32m0\u001b[0m\u001b[1;32m0\u001b[0m\u001b[1;32m0\u001b[0m\n",
            "\u001b[1;32m0\u001b[0m\u001b[1;32m0\u001b[0m\u001b[1;32m0\u001b[0m\u001b[1;32m0\u001b[0m\u001b[1;32m0\u001b[0m\u001b[1;32m0\u001b[0m\u001b[1;32m0\u001b[0m\u001b[1;32m0\u001b[0m\u001b[1;32m0\u001b[0m\u001b[1;32m0\u001b[0m\u001b[1;32m0\u001b[0m\u001b[1;32m0\u001b[0m\u001b[1;32m0\u001b[0m\u001b[1;32m0\u001b[0m\u001b[1;32m0\u001b[0m\u001b[1;32m0\u001b[0m\u001b[1;35m1\u001b[0m\u001b[1;35m1\u001b[0m\u001b[1;35m1\u001b[0m\u001b[1;35m1\u001b[0m\u001b[1;32m0\u001b[0m\u001b[1;32m0\u001b[0m\u001b[1;32m0\u001b[0m\u001b[1;32m0\u001b[0m\u001b[1;32m0\u001b[0m\u001b[1;32m0\u001b[0m\u001b[1;32m0\u001b[0m\u001b[1;32m0\u001b[0m\n",
            "\u001b[1;32m0\u001b[0m\u001b[1;32m0\u001b[0m\u001b[1;32m0\u001b[0m\u001b[1;32m0\u001b[0m\u001b[1;32m0\u001b[0m\u001b[1;32m0\u001b[0m\u001b[1;32m0\u001b[0m\u001b[1;32m0\u001b[0m\u001b[1;32m0\u001b[0m\u001b[1;32m0\u001b[0m\u001b[1;32m0\u001b[0m\u001b[1;32m0\u001b[0m\u001b[1;32m0\u001b[0m\u001b[1;32m0\u001b[0m\u001b[1;32m0\u001b[0m\u001b[1;32m0\u001b[0m\u001b[1;35m1\u001b[0m\u001b[1;35m1\u001b[0m\u001b[1;35m1\u001b[0m\u001b[1;35m1\u001b[0m\u001b[1;32m0\u001b[0m\u001b[1;32m0\u001b[0m\u001b[1;35m1\u001b[0m\u001b[1;35m1\u001b[0m\u001b[1;35m1\u001b[0m\u001b[1;35m1\u001b[0m\u001b[1;32m0\u001b[0m\u001b[1;32m0\u001b[0m\n",
            "\u001b[1;32m0\u001b[0m\u001b[1;32m0\u001b[0m\u001b[1;32m0\u001b[0m\u001b[1;32m0\u001b[0m\u001b[1;32m0\u001b[0m\u001b[1;32m0\u001b[0m\u001b[1;32m0\u001b[0m\u001b[1;32m0\u001b[0m\u001b[1;32m0\u001b[0m\u001b[1;32m0\u001b[0m\u001b[1;32m0\u001b[0m\u001b[1;32m0\u001b[0m\u001b[1;32m0\u001b[0m\u001b[1;32m0\u001b[0m\u001b[1;35m1\u001b[0m\u001b[1;35m1\u001b[0m\u001b[1;35m1\u001b[0m\u001b[1;35m1\u001b[0m\u001b[1;35m1\u001b[0m\u001b[1;35m1\u001b[0m\u001b[1;35m1\u001b[0m\u001b[1;35m1\u001b[0m\u001b[1;35m1\u001b[0m\u001b[1;35m1\u001b[0m\u001b[1;35m1\u001b[0m\u001b[1;35m1\u001b[0m\u001b[1;32m0\u001b[0m\u001b[1;32m0\u001b[0m\n",
            "\u001b[1;32m0\u001b[0m\u001b[1;32m0\u001b[0m\u001b[1;32m0\u001b[0m\u001b[1;32m0\u001b[0m\u001b[1;32m0\u001b[0m\u001b[1;32m0\u001b[0m\u001b[1;32m0\u001b[0m\u001b[1;32m0\u001b[0m\u001b[1;35m1\u001b[0m\u001b[1;35m1\u001b[0m\u001b[1;35m1\u001b[0m\u001b[1;35m1\u001b[0m\u001b[1;35m1\u001b[0m\u001b[1;35m1\u001b[0m\u001b[1;35m1\u001b[0m\u001b[1;35m1\u001b[0m\u001b[1;35m1\u001b[0m\u001b[1;35m1\u001b[0m\u001b[1;35m1\u001b[0m\u001b[1;35m1\u001b[0m\u001b[1;35m1\u001b[0m\u001b[1;35m1\u001b[0m\u001b[1;35m1\u001b[0m\u001b[1;35m1\u001b[0m\u001b[1;35m1\u001b[0m\u001b[1;32m0\u001b[0m\u001b[1;32m0\u001b[0m\u001b[1;32m0\u001b[0m\n",
            "\u001b[1;32m0\u001b[0m\u001b[1;32m0\u001b[0m\u001b[1;32m0\u001b[0m\u001b[1;32m0\u001b[0m\u001b[1;32m0\u001b[0m\u001b[1;32m0\u001b[0m\u001b[1;35m1\u001b[0m\u001b[1;35m1\u001b[0m\u001b[1;35m1\u001b[0m\u001b[1;35m1\u001b[0m\u001b[1;35m1\u001b[0m\u001b[1;35m1\u001b[0m\u001b[1;35m1\u001b[0m\u001b[1;35m1\u001b[0m\u001b[1;35m1\u001b[0m\u001b[1;35m1\u001b[0m\u001b[1;35m1\u001b[0m\u001b[1;35m1\u001b[0m\u001b[1;35m1\u001b[0m\u001b[1;35m1\u001b[0m\u001b[1;32m0\u001b[0m\u001b[1;32m0\u001b[0m\u001b[1;32m0\u001b[0m\u001b[1;32m0\u001b[0m\u001b[1;32m0\u001b[0m\u001b[1;32m0\u001b[0m\u001b[1;32m0\u001b[0m\u001b[1;32m0\u001b[0m\n",
            "\u001b[1;32m0\u001b[0m\u001b[1;32m0\u001b[0m\u001b[1;32m0\u001b[0m\u001b[1;32m0\u001b[0m\u001b[1;32m0\u001b[0m\u001b[1;32m0\u001b[0m\u001b[1;35m1\u001b[0m\u001b[1;35m1\u001b[0m\u001b[1;35m1\u001b[0m\u001b[1;35m1\u001b[0m\u001b[1;35m1\u001b[0m\u001b[1;35m1\u001b[0m\u001b[1;35m1\u001b[0m\u001b[1;35m1\u001b[0m\u001b[1;32m0\u001b[0m\u001b[1;35m1\u001b[0m\u001b[1;35m1\u001b[0m\u001b[1;35m1\u001b[0m\u001b[1;35m1\u001b[0m\u001b[1;32m0\u001b[0m\u001b[1;32m0\u001b[0m\u001b[1;32m0\u001b[0m\u001b[1;32m0\u001b[0m\u001b[1;32m0\u001b[0m\u001b[1;32m0\u001b[0m\u001b[1;32m0\u001b[0m\u001b[1;32m0\u001b[0m\u001b[1;32m0\u001b[0m\n",
            "\u001b[1;32m0\u001b[0m\u001b[1;32m0\u001b[0m\u001b[1;32m0\u001b[0m\u001b[1;32m0\u001b[0m\u001b[1;32m0\u001b[0m\u001b[1;32m0\u001b[0m\u001b[1;35m1\u001b[0m\u001b[1;35m1\u001b[0m\u001b[1;35m1\u001b[0m\u001b[1;32m0\u001b[0m\u001b[1;32m0\u001b[0m\u001b[1;32m0\u001b[0m\u001b[1;32m0\u001b[0m\u001b[1;35m1\u001b[0m\u001b[1;35m1\u001b[0m\u001b[1;35m1\u001b[0m\u001b[1;35m1\u001b[0m\u001b[1;35m1\u001b[0m\u001b[1;32m0\u001b[0m\u001b[1;32m0\u001b[0m\u001b[1;32m0\u001b[0m\u001b[1;32m0\u001b[0m\u001b[1;32m0\u001b[0m\u001b[1;32m0\u001b[0m\u001b[1;32m0\u001b[0m\u001b[1;32m0\u001b[0m\u001b[1;32m0\u001b[0m\u001b[1;32m0\u001b[0m\n",
            "\u001b[1;32m0\u001b[0m\u001b[1;32m0\u001b[0m\u001b[1;32m0\u001b[0m\u001b[1;32m0\u001b[0m\u001b[1;32m0\u001b[0m\u001b[1;32m0\u001b[0m\u001b[1;35m1\u001b[0m\u001b[1;35m1\u001b[0m\u001b[1;35m1\u001b[0m\u001b[1;32m0\u001b[0m\u001b[1;32m0\u001b[0m\u001b[1;32m0\u001b[0m\u001b[1;35m1\u001b[0m\u001b[1;35m1\u001b[0m\u001b[1;35m1\u001b[0m\u001b[1;35m1\u001b[0m\u001b[1;35m1\u001b[0m\u001b[1;32m0\u001b[0m\u001b[1;32m0\u001b[0m\u001b[1;32m0\u001b[0m\u001b[1;32m0\u001b[0m\u001b[1;32m0\u001b[0m\u001b[1;32m0\u001b[0m\u001b[1;32m0\u001b[0m\u001b[1;32m0\u001b[0m\u001b[1;32m0\u001b[0m\u001b[1;32m0\u001b[0m\u001b[1;32m0\u001b[0m\n",
            "\u001b[1;32m0\u001b[0m\u001b[1;32m0\u001b[0m\u001b[1;32m0\u001b[0m\u001b[1;32m0\u001b[0m\u001b[1;32m0\u001b[0m\u001b[1;32m0\u001b[0m\u001b[1;35m1\u001b[0m\u001b[1;35m1\u001b[0m\u001b[1;35m1\u001b[0m\u001b[1;35m1\u001b[0m\u001b[1;35m1\u001b[0m\u001b[1;35m1\u001b[0m\u001b[1;35m1\u001b[0m\u001b[1;35m1\u001b[0m\u001b[1;35m1\u001b[0m\u001b[1;35m1\u001b[0m\u001b[1;32m0\u001b[0m\u001b[1;32m0\u001b[0m\u001b[1;32m0\u001b[0m\u001b[1;32m0\u001b[0m\u001b[1;32m0\u001b[0m\u001b[1;32m0\u001b[0m\u001b[1;32m0\u001b[0m\u001b[1;32m0\u001b[0m\u001b[1;32m0\u001b[0m\u001b[1;32m0\u001b[0m\u001b[1;32m0\u001b[0m\u001b[1;32m0\u001b[0m\n",
            "\u001b[1;32m0\u001b[0m\u001b[1;32m0\u001b[0m\u001b[1;32m0\u001b[0m\u001b[1;32m0\u001b[0m\u001b[1;32m0\u001b[0m\u001b[1;32m0\u001b[0m\u001b[1;32m0\u001b[0m\u001b[1;35m1\u001b[0m\u001b[1;35m1\u001b[0m\u001b[1;35m1\u001b[0m\u001b[1;35m1\u001b[0m\u001b[1;35m1\u001b[0m\u001b[1;35m1\u001b[0m\u001b[1;35m1\u001b[0m\u001b[1;32m0\u001b[0m\u001b[1;32m0\u001b[0m\u001b[1;32m0\u001b[0m\u001b[1;32m0\u001b[0m\u001b[1;32m0\u001b[0m\u001b[1;32m0\u001b[0m\u001b[1;32m0\u001b[0m\u001b[1;32m0\u001b[0m\u001b[1;32m0\u001b[0m\u001b[1;32m0\u001b[0m\u001b[1;32m0\u001b[0m\u001b[1;32m0\u001b[0m\u001b[1;32m0\u001b[0m\u001b[1;32m0\u001b[0m\n",
            "\u001b[1;32m0\u001b[0m\u001b[1;32m0\u001b[0m\u001b[1;32m0\u001b[0m\u001b[1;32m0\u001b[0m\u001b[1;32m0\u001b[0m\u001b[1;32m0\u001b[0m\u001b[1;32m0\u001b[0m\u001b[1;32m0\u001b[0m\u001b[1;32m0\u001b[0m\u001b[1;32m0\u001b[0m\u001b[1;32m0\u001b[0m\u001b[1;32m0\u001b[0m\u001b[1;32m0\u001b[0m\u001b[1;32m0\u001b[0m\u001b[1;32m0\u001b[0m\u001b[1;32m0\u001b[0m\u001b[1;32m0\u001b[0m\u001b[1;32m0\u001b[0m\u001b[1;32m0\u001b[0m\u001b[1;32m0\u001b[0m\u001b[1;32m0\u001b[0m\u001b[1;32m0\u001b[0m\u001b[1;32m0\u001b[0m\u001b[1;32m0\u001b[0m\u001b[1;32m0\u001b[0m\u001b[1;32m0\u001b[0m\u001b[1;32m0\u001b[0m\u001b[1;32m0\u001b[0m\n",
            "\u001b[1;32m0\u001b[0m\u001b[1;32m0\u001b[0m\u001b[1;32m0\u001b[0m\u001b[1;32m0\u001b[0m\u001b[1;32m0\u001b[0m\u001b[1;32m0\u001b[0m\u001b[1;32m0\u001b[0m\u001b[1;32m0\u001b[0m\u001b[1;32m0\u001b[0m\u001b[1;32m0\u001b[0m\u001b[1;32m0\u001b[0m\u001b[1;32m0\u001b[0m\u001b[1;32m0\u001b[0m\u001b[1;32m0\u001b[0m\u001b[1;32m0\u001b[0m\u001b[1;32m0\u001b[0m\u001b[1;32m0\u001b[0m\u001b[1;32m0\u001b[0m\u001b[1;32m0\u001b[0m\u001b[1;32m0\u001b[0m\u001b[1;32m0\u001b[0m\u001b[1;32m0\u001b[0m\u001b[1;32m0\u001b[0m\u001b[1;32m0\u001b[0m\u001b[1;32m0\u001b[0m\u001b[1;32m0\u001b[0m\u001b[1;32m0\u001b[0m\u001b[1;32m0\u001b[0m\n",
            "\u001b[1;32m0\u001b[0m\u001b[1;32m0\u001b[0m\u001b[1;32m0\u001b[0m\u001b[1;32m0\u001b[0m\u001b[1;32m0\u001b[0m\u001b[1;32m0\u001b[0m\u001b[1;32m0\u001b[0m\u001b[1;32m0\u001b[0m\u001b[1;32m0\u001b[0m\u001b[1;32m0\u001b[0m\u001b[1;32m0\u001b[0m\u001b[1;32m0\u001b[0m\u001b[1;32m0\u001b[0m\u001b[1;32m0\u001b[0m\u001b[1;32m0\u001b[0m\u001b[1;32m0\u001b[0m\u001b[1;32m0\u001b[0m\u001b[1;32m0\u001b[0m\u001b[1;32m0\u001b[0m\u001b[1;32m0\u001b[0m\u001b[1;32m0\u001b[0m\u001b[1;32m0\u001b[0m\u001b[1;32m0\u001b[0m\u001b[1;32m0\u001b[0m\u001b[1;32m0\u001b[0m\u001b[1;32m0\u001b[0m\u001b[1;32m0\u001b[0m\u001b[1;32m0\u001b[0m\n",
            "\u001b[1;32m0\u001b[0m\u001b[1;32m0\u001b[0m\u001b[1;32m0\u001b[0m\u001b[1;32m0\u001b[0m\u001b[1;32m0\u001b[0m\u001b[1;32m0\u001b[0m\u001b[1;32m0\u001b[0m\u001b[1;32m0\u001b[0m\u001b[1;32m0\u001b[0m\u001b[1;32m0\u001b[0m\u001b[1;32m0\u001b[0m\u001b[1;32m0\u001b[0m\u001b[1;32m0\u001b[0m\u001b[1;32m0\u001b[0m\u001b[1;32m0\u001b[0m\u001b[1;32m0\u001b[0m\u001b[1;32m0\u001b[0m\u001b[1;32m0\u001b[0m\u001b[1;32m0\u001b[0m\u001b[1;32m0\u001b[0m\u001b[1;32m0\u001b[0m\u001b[1;32m0\u001b[0m\u001b[1;32m0\u001b[0m\u001b[1;32m0\u001b[0m\u001b[1;32m0\u001b[0m\u001b[1;32m0\u001b[0m\u001b[1;32m0\u001b[0m\u001b[1;32m0\u001b[0m\n",
            "\u001b[1;32m0\u001b[0m\u001b[1;32m0\u001b[0m\u001b[1;32m0\u001b[0m\u001b[1;32m0\u001b[0m\u001b[1;32m0\u001b[0m\u001b[1;32m0\u001b[0m\u001b[1;32m0\u001b[0m\u001b[1;32m0\u001b[0m\u001b[1;32m0\u001b[0m\u001b[1;32m0\u001b[0m\u001b[1;32m0\u001b[0m\u001b[1;32m0\u001b[0m\u001b[1;32m0\u001b[0m\u001b[1;32m0\u001b[0m\u001b[1;32m0\u001b[0m\u001b[1;32m0\u001b[0m\u001b[1;32m0\u001b[0m\u001b[1;32m0\u001b[0m\u001b[1;32m0\u001b[0m\u001b[1;32m0\u001b[0m\u001b[1;32m0\u001b[0m\u001b[1;32m0\u001b[0m\u001b[1;32m0\u001b[0m\u001b[1;32m0\u001b[0m\u001b[1;32m0\u001b[0m\u001b[1;32m0\u001b[0m\u001b[1;32m0\u001b[0m\u001b[1;32m0\u001b[0m\n",
            "\n",
            "\n",
            "\n",
            "Actual Class  4\n",
            "Predicted Class 9\n",
            "\u001b[1;32m0\u001b[0m\u001b[1;32m0\u001b[0m\u001b[1;32m0\u001b[0m\u001b[1;32m0\u001b[0m\u001b[1;32m0\u001b[0m\u001b[1;32m0\u001b[0m\u001b[1;32m0\u001b[0m\u001b[1;32m0\u001b[0m\u001b[1;32m0\u001b[0m\u001b[1;32m0\u001b[0m\u001b[1;32m0\u001b[0m\u001b[1;32m0\u001b[0m\u001b[1;32m0\u001b[0m\u001b[1;32m0\u001b[0m\u001b[1;32m0\u001b[0m\u001b[1;32m0\u001b[0m\u001b[1;32m0\u001b[0m\u001b[1;32m0\u001b[0m\u001b[1;32m0\u001b[0m\u001b[1;32m0\u001b[0m\u001b[1;32m0\u001b[0m\u001b[1;32m0\u001b[0m\u001b[1;32m0\u001b[0m\u001b[1;32m0\u001b[0m\u001b[1;32m0\u001b[0m\u001b[1;32m0\u001b[0m\u001b[1;32m0\u001b[0m\u001b[1;32m0\u001b[0m\n",
            "\u001b[1;32m0\u001b[0m\u001b[1;32m0\u001b[0m\u001b[1;32m0\u001b[0m\u001b[1;32m0\u001b[0m\u001b[1;32m0\u001b[0m\u001b[1;32m0\u001b[0m\u001b[1;32m0\u001b[0m\u001b[1;32m0\u001b[0m\u001b[1;32m0\u001b[0m\u001b[1;32m0\u001b[0m\u001b[1;32m0\u001b[0m\u001b[1;32m0\u001b[0m\u001b[1;32m0\u001b[0m\u001b[1;32m0\u001b[0m\u001b[1;32m0\u001b[0m\u001b[1;32m0\u001b[0m\u001b[1;32m0\u001b[0m\u001b[1;32m0\u001b[0m\u001b[1;32m0\u001b[0m\u001b[1;32m0\u001b[0m\u001b[1;32m0\u001b[0m\u001b[1;32m0\u001b[0m\u001b[1;32m0\u001b[0m\u001b[1;32m0\u001b[0m\u001b[1;32m0\u001b[0m\u001b[1;32m0\u001b[0m\u001b[1;32m0\u001b[0m\u001b[1;32m0\u001b[0m\n",
            "\u001b[1;32m0\u001b[0m\u001b[1;32m0\u001b[0m\u001b[1;32m0\u001b[0m\u001b[1;32m0\u001b[0m\u001b[1;32m0\u001b[0m\u001b[1;32m0\u001b[0m\u001b[1;32m0\u001b[0m\u001b[1;32m0\u001b[0m\u001b[1;32m0\u001b[0m\u001b[1;32m0\u001b[0m\u001b[1;32m0\u001b[0m\u001b[1;32m0\u001b[0m\u001b[1;32m0\u001b[0m\u001b[1;32m0\u001b[0m\u001b[1;32m0\u001b[0m\u001b[1;32m0\u001b[0m\u001b[1;32m0\u001b[0m\u001b[1;32m0\u001b[0m\u001b[1;32m0\u001b[0m\u001b[1;32m0\u001b[0m\u001b[1;32m0\u001b[0m\u001b[1;32m0\u001b[0m\u001b[1;32m0\u001b[0m\u001b[1;32m0\u001b[0m\u001b[1;32m0\u001b[0m\u001b[1;32m0\u001b[0m\u001b[1;32m0\u001b[0m\u001b[1;32m0\u001b[0m\n",
            "\u001b[1;32m0\u001b[0m\u001b[1;32m0\u001b[0m\u001b[1;32m0\u001b[0m\u001b[1;32m0\u001b[0m\u001b[1;32m0\u001b[0m\u001b[1;32m0\u001b[0m\u001b[1;32m0\u001b[0m\u001b[1;32m0\u001b[0m\u001b[1;32m0\u001b[0m\u001b[1;32m0\u001b[0m\u001b[1;32m0\u001b[0m\u001b[1;32m0\u001b[0m\u001b[1;32m0\u001b[0m\u001b[1;32m0\u001b[0m\u001b[1;32m0\u001b[0m\u001b[1;32m0\u001b[0m\u001b[1;35m1\u001b[0m\u001b[1;35m1\u001b[0m\u001b[1;35m1\u001b[0m\u001b[1;35m1\u001b[0m\u001b[1;32m0\u001b[0m\u001b[1;32m0\u001b[0m\u001b[1;32m0\u001b[0m\u001b[1;32m0\u001b[0m\u001b[1;32m0\u001b[0m\u001b[1;32m0\u001b[0m\u001b[1;32m0\u001b[0m\u001b[1;32m0\u001b[0m\n",
            "\u001b[1;32m0\u001b[0m\u001b[1;32m0\u001b[0m\u001b[1;32m0\u001b[0m\u001b[1;32m0\u001b[0m\u001b[1;32m0\u001b[0m\u001b[1;32m0\u001b[0m\u001b[1;32m0\u001b[0m\u001b[1;32m0\u001b[0m\u001b[1;32m0\u001b[0m\u001b[1;32m0\u001b[0m\u001b[1;32m0\u001b[0m\u001b[1;32m0\u001b[0m\u001b[1;32m0\u001b[0m\u001b[1;32m0\u001b[0m\u001b[1;32m0\u001b[0m\u001b[1;35m1\u001b[0m\u001b[1;35m1\u001b[0m\u001b[1;35m1\u001b[0m\u001b[1;35m1\u001b[0m\u001b[1;35m1\u001b[0m\u001b[1;32m0\u001b[0m\u001b[1;32m0\u001b[0m\u001b[1;32m0\u001b[0m\u001b[1;32m0\u001b[0m\u001b[1;32m0\u001b[0m\u001b[1;32m0\u001b[0m\u001b[1;32m0\u001b[0m\u001b[1;32m0\u001b[0m\n",
            "\u001b[1;32m0\u001b[0m\u001b[1;32m0\u001b[0m\u001b[1;32m0\u001b[0m\u001b[1;32m0\u001b[0m\u001b[1;32m0\u001b[0m\u001b[1;32m0\u001b[0m\u001b[1;32m0\u001b[0m\u001b[1;32m0\u001b[0m\u001b[1;32m0\u001b[0m\u001b[1;32m0\u001b[0m\u001b[1;32m0\u001b[0m\u001b[1;32m0\u001b[0m\u001b[1;32m0\u001b[0m\u001b[1;32m0\u001b[0m\u001b[1;35m1\u001b[0m\u001b[1;35m1\u001b[0m\u001b[1;35m1\u001b[0m\u001b[1;35m1\u001b[0m\u001b[1;32m0\u001b[0m\u001b[1;32m0\u001b[0m\u001b[1;32m0\u001b[0m\u001b[1;32m0\u001b[0m\u001b[1;32m0\u001b[0m\u001b[1;32m0\u001b[0m\u001b[1;32m0\u001b[0m\u001b[1;32m0\u001b[0m\u001b[1;32m0\u001b[0m\u001b[1;32m0\u001b[0m\n",
            "\u001b[1;32m0\u001b[0m\u001b[1;32m0\u001b[0m\u001b[1;32m0\u001b[0m\u001b[1;32m0\u001b[0m\u001b[1;32m0\u001b[0m\u001b[1;32m0\u001b[0m\u001b[1;32m0\u001b[0m\u001b[1;32m0\u001b[0m\u001b[1;32m0\u001b[0m\u001b[1;32m0\u001b[0m\u001b[1;32m0\u001b[0m\u001b[1;32m0\u001b[0m\u001b[1;32m0\u001b[0m\u001b[1;35m1\u001b[0m\u001b[1;35m1\u001b[0m\u001b[1;35m1\u001b[0m\u001b[1;35m1\u001b[0m\u001b[1;32m0\u001b[0m\u001b[1;32m0\u001b[0m\u001b[1;32m0\u001b[0m\u001b[1;32m0\u001b[0m\u001b[1;32m0\u001b[0m\u001b[1;32m0\u001b[0m\u001b[1;32m0\u001b[0m\u001b[1;32m0\u001b[0m\u001b[1;32m0\u001b[0m\u001b[1;32m0\u001b[0m\u001b[1;32m0\u001b[0m\n",
            "\u001b[1;32m0\u001b[0m\u001b[1;32m0\u001b[0m\u001b[1;32m0\u001b[0m\u001b[1;32m0\u001b[0m\u001b[1;32m0\u001b[0m\u001b[1;32m0\u001b[0m\u001b[1;32m0\u001b[0m\u001b[1;32m0\u001b[0m\u001b[1;32m0\u001b[0m\u001b[1;32m0\u001b[0m\u001b[1;32m0\u001b[0m\u001b[1;32m0\u001b[0m\u001b[1;35m1\u001b[0m\u001b[1;35m1\u001b[0m\u001b[1;35m1\u001b[0m\u001b[1;35m1\u001b[0m\u001b[1;32m0\u001b[0m\u001b[1;32m0\u001b[0m\u001b[1;32m0\u001b[0m\u001b[1;32m0\u001b[0m\u001b[1;32m0\u001b[0m\u001b[1;32m0\u001b[0m\u001b[1;32m0\u001b[0m\u001b[1;32m0\u001b[0m\u001b[1;32m0\u001b[0m\u001b[1;32m0\u001b[0m\u001b[1;32m0\u001b[0m\u001b[1;32m0\u001b[0m\n",
            "\u001b[1;32m0\u001b[0m\u001b[1;32m0\u001b[0m\u001b[1;32m0\u001b[0m\u001b[1;32m0\u001b[0m\u001b[1;32m0\u001b[0m\u001b[1;32m0\u001b[0m\u001b[1;32m0\u001b[0m\u001b[1;32m0\u001b[0m\u001b[1;32m0\u001b[0m\u001b[1;32m0\u001b[0m\u001b[1;32m0\u001b[0m\u001b[1;32m0\u001b[0m\u001b[1;35m1\u001b[0m\u001b[1;35m1\u001b[0m\u001b[1;35m1\u001b[0m\u001b[1;32m0\u001b[0m\u001b[1;32m0\u001b[0m\u001b[1;32m0\u001b[0m\u001b[1;32m0\u001b[0m\u001b[1;32m0\u001b[0m\u001b[1;32m0\u001b[0m\u001b[1;32m0\u001b[0m\u001b[1;32m0\u001b[0m\u001b[1;32m0\u001b[0m\u001b[1;32m0\u001b[0m\u001b[1;32m0\u001b[0m\u001b[1;32m0\u001b[0m\u001b[1;32m0\u001b[0m\n",
            "\u001b[1;32m0\u001b[0m\u001b[1;32m0\u001b[0m\u001b[1;32m0\u001b[0m\u001b[1;32m0\u001b[0m\u001b[1;32m0\u001b[0m\u001b[1;32m0\u001b[0m\u001b[1;32m0\u001b[0m\u001b[1;32m0\u001b[0m\u001b[1;32m0\u001b[0m\u001b[1;32m0\u001b[0m\u001b[1;32m0\u001b[0m\u001b[1;35m1\u001b[0m\u001b[1;35m1\u001b[0m\u001b[1;35m1\u001b[0m\u001b[1;32m0\u001b[0m\u001b[1;32m0\u001b[0m\u001b[1;32m0\u001b[0m\u001b[1;32m0\u001b[0m\u001b[1;32m0\u001b[0m\u001b[1;32m0\u001b[0m\u001b[1;32m0\u001b[0m\u001b[1;32m0\u001b[0m\u001b[1;32m0\u001b[0m\u001b[1;32m0\u001b[0m\u001b[1;32m0\u001b[0m\u001b[1;32m0\u001b[0m\u001b[1;32m0\u001b[0m\u001b[1;32m0\u001b[0m\n",
            "\u001b[1;32m0\u001b[0m\u001b[1;32m0\u001b[0m\u001b[1;32m0\u001b[0m\u001b[1;32m0\u001b[0m\u001b[1;32m0\u001b[0m\u001b[1;32m0\u001b[0m\u001b[1;32m0\u001b[0m\u001b[1;32m0\u001b[0m\u001b[1;32m0\u001b[0m\u001b[1;32m0\u001b[0m\u001b[1;32m0\u001b[0m\u001b[1;35m1\u001b[0m\u001b[1;35m1\u001b[0m\u001b[1;35m1\u001b[0m\u001b[1;32m0\u001b[0m\u001b[1;32m0\u001b[0m\u001b[1;32m0\u001b[0m\u001b[1;32m0\u001b[0m\u001b[1;32m0\u001b[0m\u001b[1;32m0\u001b[0m\u001b[1;32m0\u001b[0m\u001b[1;32m0\u001b[0m\u001b[1;32m0\u001b[0m\u001b[1;32m0\u001b[0m\u001b[1;32m0\u001b[0m\u001b[1;32m0\u001b[0m\u001b[1;32m0\u001b[0m\u001b[1;32m0\u001b[0m\n",
            "\u001b[1;32m0\u001b[0m\u001b[1;32m0\u001b[0m\u001b[1;32m0\u001b[0m\u001b[1;32m0\u001b[0m\u001b[1;32m0\u001b[0m\u001b[1;32m0\u001b[0m\u001b[1;32m0\u001b[0m\u001b[1;32m0\u001b[0m\u001b[1;32m0\u001b[0m\u001b[1;32m0\u001b[0m\u001b[1;32m0\u001b[0m\u001b[1;35m1\u001b[0m\u001b[1;35m1\u001b[0m\u001b[1;32m0\u001b[0m\u001b[1;32m0\u001b[0m\u001b[1;32m0\u001b[0m\u001b[1;32m0\u001b[0m\u001b[1;32m0\u001b[0m\u001b[1;32m0\u001b[0m\u001b[1;32m0\u001b[0m\u001b[1;32m0\u001b[0m\u001b[1;32m0\u001b[0m\u001b[1;32m0\u001b[0m\u001b[1;32m0\u001b[0m\u001b[1;32m0\u001b[0m\u001b[1;32m0\u001b[0m\u001b[1;32m0\u001b[0m\u001b[1;32m0\u001b[0m\n",
            "\u001b[1;32m0\u001b[0m\u001b[1;32m0\u001b[0m\u001b[1;32m0\u001b[0m\u001b[1;32m0\u001b[0m\u001b[1;32m0\u001b[0m\u001b[1;32m0\u001b[0m\u001b[1;32m0\u001b[0m\u001b[1;32m0\u001b[0m\u001b[1;32m0\u001b[0m\u001b[1;32m0\u001b[0m\u001b[1;35m1\u001b[0m\u001b[1;35m1\u001b[0m\u001b[1;35m1\u001b[0m\u001b[1;32m0\u001b[0m\u001b[1;32m0\u001b[0m\u001b[1;32m0\u001b[0m\u001b[1;35m1\u001b[0m\u001b[1;35m1\u001b[0m\u001b[1;32m0\u001b[0m\u001b[1;32m0\u001b[0m\u001b[1;32m0\u001b[0m\u001b[1;32m0\u001b[0m\u001b[1;32m0\u001b[0m\u001b[1;32m0\u001b[0m\u001b[1;32m0\u001b[0m\u001b[1;32m0\u001b[0m\u001b[1;32m0\u001b[0m\u001b[1;32m0\u001b[0m\n",
            "\u001b[1;32m0\u001b[0m\u001b[1;32m0\u001b[0m\u001b[1;32m0\u001b[0m\u001b[1;32m0\u001b[0m\u001b[1;32m0\u001b[0m\u001b[1;32m0\u001b[0m\u001b[1;32m0\u001b[0m\u001b[1;32m0\u001b[0m\u001b[1;32m0\u001b[0m\u001b[1;32m0\u001b[0m\u001b[1;35m1\u001b[0m\u001b[1;35m1\u001b[0m\u001b[1;35m1\u001b[0m\u001b[1;32m0\u001b[0m\u001b[1;35m1\u001b[0m\u001b[1;35m1\u001b[0m\u001b[1;35m1\u001b[0m\u001b[1;35m1\u001b[0m\u001b[1;35m1\u001b[0m\u001b[1;32m0\u001b[0m\u001b[1;32m0\u001b[0m\u001b[1;32m0\u001b[0m\u001b[1;32m0\u001b[0m\u001b[1;32m0\u001b[0m\u001b[1;32m0\u001b[0m\u001b[1;32m0\u001b[0m\u001b[1;32m0\u001b[0m\u001b[1;32m0\u001b[0m\n",
            "\u001b[1;32m0\u001b[0m\u001b[1;32m0\u001b[0m\u001b[1;32m0\u001b[0m\u001b[1;32m0\u001b[0m\u001b[1;32m0\u001b[0m\u001b[1;32m0\u001b[0m\u001b[1;32m0\u001b[0m\u001b[1;32m0\u001b[0m\u001b[1;32m0\u001b[0m\u001b[1;32m0\u001b[0m\u001b[1;35m1\u001b[0m\u001b[1;35m1\u001b[0m\u001b[1;32m0\u001b[0m\u001b[1;35m1\u001b[0m\u001b[1;35m1\u001b[0m\u001b[1;35m1\u001b[0m\u001b[1;35m1\u001b[0m\u001b[1;35m1\u001b[0m\u001b[1;35m1\u001b[0m\u001b[1;35m1\u001b[0m\u001b[1;32m0\u001b[0m\u001b[1;32m0\u001b[0m\u001b[1;32m0\u001b[0m\u001b[1;32m0\u001b[0m\u001b[1;32m0\u001b[0m\u001b[1;32m0\u001b[0m\u001b[1;32m0\u001b[0m\u001b[1;32m0\u001b[0m\n",
            "\u001b[1;32m0\u001b[0m\u001b[1;32m0\u001b[0m\u001b[1;32m0\u001b[0m\u001b[1;32m0\u001b[0m\u001b[1;32m0\u001b[0m\u001b[1;32m0\u001b[0m\u001b[1;32m0\u001b[0m\u001b[1;32m0\u001b[0m\u001b[1;32m0\u001b[0m\u001b[1;35m1\u001b[0m\u001b[1;35m1\u001b[0m\u001b[1;35m1\u001b[0m\u001b[1;32m0\u001b[0m\u001b[1;35m1\u001b[0m\u001b[1;35m1\u001b[0m\u001b[1;32m0\u001b[0m\u001b[1;32m0\u001b[0m\u001b[1;32m0\u001b[0m\u001b[1;35m1\u001b[0m\u001b[1;35m1\u001b[0m\u001b[1;32m0\u001b[0m\u001b[1;32m0\u001b[0m\u001b[1;32m0\u001b[0m\u001b[1;32m0\u001b[0m\u001b[1;32m0\u001b[0m\u001b[1;32m0\u001b[0m\u001b[1;32m0\u001b[0m\u001b[1;32m0\u001b[0m\n",
            "\u001b[1;32m0\u001b[0m\u001b[1;32m0\u001b[0m\u001b[1;32m0\u001b[0m\u001b[1;32m0\u001b[0m\u001b[1;32m0\u001b[0m\u001b[1;32m0\u001b[0m\u001b[1;32m0\u001b[0m\u001b[1;32m0\u001b[0m\u001b[1;32m0\u001b[0m\u001b[1;35m1\u001b[0m\u001b[1;35m1\u001b[0m\u001b[1;35m1\u001b[0m\u001b[1;32m0\u001b[0m\u001b[1;35m1\u001b[0m\u001b[1;35m1\u001b[0m\u001b[1;32m0\u001b[0m\u001b[1;32m0\u001b[0m\u001b[1;32m0\u001b[0m\u001b[1;35m1\u001b[0m\u001b[1;35m1\u001b[0m\u001b[1;32m0\u001b[0m\u001b[1;32m0\u001b[0m\u001b[1;32m0\u001b[0m\u001b[1;32m0\u001b[0m\u001b[1;32m0\u001b[0m\u001b[1;32m0\u001b[0m\u001b[1;32m0\u001b[0m\u001b[1;32m0\u001b[0m\n",
            "\u001b[1;32m0\u001b[0m\u001b[1;32m0\u001b[0m\u001b[1;32m0\u001b[0m\u001b[1;32m0\u001b[0m\u001b[1;32m0\u001b[0m\u001b[1;32m0\u001b[0m\u001b[1;32m0\u001b[0m\u001b[1;32m0\u001b[0m\u001b[1;32m0\u001b[0m\u001b[1;35m1\u001b[0m\u001b[1;35m1\u001b[0m\u001b[1;35m1\u001b[0m\u001b[1;32m0\u001b[0m\u001b[1;32m0\u001b[0m\u001b[1;32m0\u001b[0m\u001b[1;32m0\u001b[0m\u001b[1;32m0\u001b[0m\u001b[1;32m0\u001b[0m\u001b[1;35m1\u001b[0m\u001b[1;35m1\u001b[0m\u001b[1;32m0\u001b[0m\u001b[1;32m0\u001b[0m\u001b[1;32m0\u001b[0m\u001b[1;32m0\u001b[0m\u001b[1;32m0\u001b[0m\u001b[1;32m0\u001b[0m\u001b[1;32m0\u001b[0m\u001b[1;32m0\u001b[0m\n",
            "\u001b[1;32m0\u001b[0m\u001b[1;32m0\u001b[0m\u001b[1;32m0\u001b[0m\u001b[1;32m0\u001b[0m\u001b[1;32m0\u001b[0m\u001b[1;32m0\u001b[0m\u001b[1;32m0\u001b[0m\u001b[1;32m0\u001b[0m\u001b[1;32m0\u001b[0m\u001b[1;35m1\u001b[0m\u001b[1;35m1\u001b[0m\u001b[1;35m1\u001b[0m\u001b[1;32m0\u001b[0m\u001b[1;32m0\u001b[0m\u001b[1;32m0\u001b[0m\u001b[1;32m0\u001b[0m\u001b[1;32m0\u001b[0m\u001b[1;32m0\u001b[0m\u001b[1;35m1\u001b[0m\u001b[1;35m1\u001b[0m\u001b[1;32m0\u001b[0m\u001b[1;32m0\u001b[0m\u001b[1;32m0\u001b[0m\u001b[1;32m0\u001b[0m\u001b[1;32m0\u001b[0m\u001b[1;32m0\u001b[0m\u001b[1;32m0\u001b[0m\u001b[1;32m0\u001b[0m\n",
            "\u001b[1;32m0\u001b[0m\u001b[1;32m0\u001b[0m\u001b[1;32m0\u001b[0m\u001b[1;32m0\u001b[0m\u001b[1;32m0\u001b[0m\u001b[1;32m0\u001b[0m\u001b[1;32m0\u001b[0m\u001b[1;32m0\u001b[0m\u001b[1;32m0\u001b[0m\u001b[1;35m1\u001b[0m\u001b[1;35m1\u001b[0m\u001b[1;35m1\u001b[0m\u001b[1;32m0\u001b[0m\u001b[1;32m0\u001b[0m\u001b[1;32m0\u001b[0m\u001b[1;32m0\u001b[0m\u001b[1;32m0\u001b[0m\u001b[1;35m1\u001b[0m\u001b[1;35m1\u001b[0m\u001b[1;35m1\u001b[0m\u001b[1;32m0\u001b[0m\u001b[1;32m0\u001b[0m\u001b[1;32m0\u001b[0m\u001b[1;32m0\u001b[0m\u001b[1;32m0\u001b[0m\u001b[1;32m0\u001b[0m\u001b[1;32m0\u001b[0m\u001b[1;32m0\u001b[0m\n",
            "\u001b[1;32m0\u001b[0m\u001b[1;32m0\u001b[0m\u001b[1;32m0\u001b[0m\u001b[1;32m0\u001b[0m\u001b[1;32m0\u001b[0m\u001b[1;32m0\u001b[0m\u001b[1;32m0\u001b[0m\u001b[1;32m0\u001b[0m\u001b[1;32m0\u001b[0m\u001b[1;35m1\u001b[0m\u001b[1;35m1\u001b[0m\u001b[1;35m1\u001b[0m\u001b[1;32m0\u001b[0m\u001b[1;32m0\u001b[0m\u001b[1;32m0\u001b[0m\u001b[1;32m0\u001b[0m\u001b[1;35m1\u001b[0m\u001b[1;35m1\u001b[0m\u001b[1;35m1\u001b[0m\u001b[1;35m1\u001b[0m\u001b[1;32m0\u001b[0m\u001b[1;32m0\u001b[0m\u001b[1;32m0\u001b[0m\u001b[1;32m0\u001b[0m\u001b[1;32m0\u001b[0m\u001b[1;32m0\u001b[0m\u001b[1;32m0\u001b[0m\u001b[1;32m0\u001b[0m\n",
            "\u001b[1;32m0\u001b[0m\u001b[1;32m0\u001b[0m\u001b[1;32m0\u001b[0m\u001b[1;32m0\u001b[0m\u001b[1;32m0\u001b[0m\u001b[1;32m0\u001b[0m\u001b[1;32m0\u001b[0m\u001b[1;32m0\u001b[0m\u001b[1;32m0\u001b[0m\u001b[1;32m0\u001b[0m\u001b[1;35m1\u001b[0m\u001b[1;35m1\u001b[0m\u001b[1;35m1\u001b[0m\u001b[1;35m1\u001b[0m\u001b[1;35m1\u001b[0m\u001b[1;35m1\u001b[0m\u001b[1;35m1\u001b[0m\u001b[1;35m1\u001b[0m\u001b[1;35m1\u001b[0m\u001b[1;32m0\u001b[0m\u001b[1;32m0\u001b[0m\u001b[1;32m0\u001b[0m\u001b[1;32m0\u001b[0m\u001b[1;32m0\u001b[0m\u001b[1;32m0\u001b[0m\u001b[1;32m0\u001b[0m\u001b[1;32m0\u001b[0m\u001b[1;32m0\u001b[0m\n",
            "\u001b[1;32m0\u001b[0m\u001b[1;32m0\u001b[0m\u001b[1;32m0\u001b[0m\u001b[1;32m0\u001b[0m\u001b[1;32m0\u001b[0m\u001b[1;32m0\u001b[0m\u001b[1;32m0\u001b[0m\u001b[1;32m0\u001b[0m\u001b[1;32m0\u001b[0m\u001b[1;32m0\u001b[0m\u001b[1;32m0\u001b[0m\u001b[1;35m1\u001b[0m\u001b[1;35m1\u001b[0m\u001b[1;35m1\u001b[0m\u001b[1;35m1\u001b[0m\u001b[1;35m1\u001b[0m\u001b[1;35m1\u001b[0m\u001b[1;35m1\u001b[0m\u001b[1;32m0\u001b[0m\u001b[1;32m0\u001b[0m\u001b[1;32m0\u001b[0m\u001b[1;32m0\u001b[0m\u001b[1;32m0\u001b[0m\u001b[1;32m0\u001b[0m\u001b[1;32m0\u001b[0m\u001b[1;32m0\u001b[0m\u001b[1;32m0\u001b[0m\u001b[1;32m0\u001b[0m\n",
            "\u001b[1;32m0\u001b[0m\u001b[1;32m0\u001b[0m\u001b[1;32m0\u001b[0m\u001b[1;32m0\u001b[0m\u001b[1;32m0\u001b[0m\u001b[1;32m0\u001b[0m\u001b[1;32m0\u001b[0m\u001b[1;32m0\u001b[0m\u001b[1;32m0\u001b[0m\u001b[1;32m0\u001b[0m\u001b[1;32m0\u001b[0m\u001b[1;32m0\u001b[0m\u001b[1;32m0\u001b[0m\u001b[1;32m0\u001b[0m\u001b[1;32m0\u001b[0m\u001b[1;32m0\u001b[0m\u001b[1;32m0\u001b[0m\u001b[1;32m0\u001b[0m\u001b[1;32m0\u001b[0m\u001b[1;32m0\u001b[0m\u001b[1;32m0\u001b[0m\u001b[1;32m0\u001b[0m\u001b[1;32m0\u001b[0m\u001b[1;32m0\u001b[0m\u001b[1;32m0\u001b[0m\u001b[1;32m0\u001b[0m\u001b[1;32m0\u001b[0m\u001b[1;32m0\u001b[0m\n",
            "\u001b[1;32m0\u001b[0m\u001b[1;32m0\u001b[0m\u001b[1;32m0\u001b[0m\u001b[1;32m0\u001b[0m\u001b[1;32m0\u001b[0m\u001b[1;32m0\u001b[0m\u001b[1;32m0\u001b[0m\u001b[1;32m0\u001b[0m\u001b[1;32m0\u001b[0m\u001b[1;32m0\u001b[0m\u001b[1;32m0\u001b[0m\u001b[1;32m0\u001b[0m\u001b[1;32m0\u001b[0m\u001b[1;32m0\u001b[0m\u001b[1;32m0\u001b[0m\u001b[1;32m0\u001b[0m\u001b[1;32m0\u001b[0m\u001b[1;32m0\u001b[0m\u001b[1;32m0\u001b[0m\u001b[1;32m0\u001b[0m\u001b[1;32m0\u001b[0m\u001b[1;32m0\u001b[0m\u001b[1;32m0\u001b[0m\u001b[1;32m0\u001b[0m\u001b[1;32m0\u001b[0m\u001b[1;32m0\u001b[0m\u001b[1;32m0\u001b[0m\u001b[1;32m0\u001b[0m\n",
            "\u001b[1;32m0\u001b[0m\u001b[1;32m0\u001b[0m\u001b[1;32m0\u001b[0m\u001b[1;32m0\u001b[0m\u001b[1;32m0\u001b[0m\u001b[1;32m0\u001b[0m\u001b[1;32m0\u001b[0m\u001b[1;32m0\u001b[0m\u001b[1;32m0\u001b[0m\u001b[1;32m0\u001b[0m\u001b[1;32m0\u001b[0m\u001b[1;32m0\u001b[0m\u001b[1;32m0\u001b[0m\u001b[1;32m0\u001b[0m\u001b[1;32m0\u001b[0m\u001b[1;32m0\u001b[0m\u001b[1;32m0\u001b[0m\u001b[1;32m0\u001b[0m\u001b[1;32m0\u001b[0m\u001b[1;32m0\u001b[0m\u001b[1;32m0\u001b[0m\u001b[1;32m0\u001b[0m\u001b[1;32m0\u001b[0m\u001b[1;32m0\u001b[0m\u001b[1;32m0\u001b[0m\u001b[1;32m0\u001b[0m\u001b[1;32m0\u001b[0m\u001b[1;32m0\u001b[0m\n",
            "\u001b[1;32m0\u001b[0m\u001b[1;32m0\u001b[0m\u001b[1;32m0\u001b[0m\u001b[1;32m0\u001b[0m\u001b[1;32m0\u001b[0m\u001b[1;32m0\u001b[0m\u001b[1;32m0\u001b[0m\u001b[1;32m0\u001b[0m\u001b[1;32m0\u001b[0m\u001b[1;32m0\u001b[0m\u001b[1;32m0\u001b[0m\u001b[1;32m0\u001b[0m\u001b[1;32m0\u001b[0m\u001b[1;32m0\u001b[0m\u001b[1;32m0\u001b[0m\u001b[1;32m0\u001b[0m\u001b[1;32m0\u001b[0m\u001b[1;32m0\u001b[0m\u001b[1;32m0\u001b[0m\u001b[1;32m0\u001b[0m\u001b[1;32m0\u001b[0m\u001b[1;32m0\u001b[0m\u001b[1;32m0\u001b[0m\u001b[1;32m0\u001b[0m\u001b[1;32m0\u001b[0m\u001b[1;32m0\u001b[0m\u001b[1;32m0\u001b[0m\u001b[1;32m0\u001b[0m\n",
            "\u001b[1;32m0\u001b[0m\u001b[1;32m0\u001b[0m\u001b[1;32m0\u001b[0m\u001b[1;32m0\u001b[0m\u001b[1;32m0\u001b[0m\u001b[1;32m0\u001b[0m\u001b[1;32m0\u001b[0m\u001b[1;32m0\u001b[0m\u001b[1;32m0\u001b[0m\u001b[1;32m0\u001b[0m\u001b[1;32m0\u001b[0m\u001b[1;32m0\u001b[0m\u001b[1;32m0\u001b[0m\u001b[1;32m0\u001b[0m\u001b[1;32m0\u001b[0m\u001b[1;32m0\u001b[0m\u001b[1;32m0\u001b[0m\u001b[1;32m0\u001b[0m\u001b[1;32m0\u001b[0m\u001b[1;32m0\u001b[0m\u001b[1;32m0\u001b[0m\u001b[1;32m0\u001b[0m\u001b[1;32m0\u001b[0m\u001b[1;32m0\u001b[0m\u001b[1;32m0\u001b[0m\u001b[1;32m0\u001b[0m\u001b[1;32m0\u001b[0m\u001b[1;32m0\u001b[0m\n",
            "\n",
            "\n",
            "\n",
            "Actual Class  6\n",
            "Predicted Class 3\n"
          ]
        }
      ],
      "source": [
        "for i in range(20):\n",
        "    if y_pred[i] != test_label_array[i]:\n",
        "        print_number(image_array[i])\n",
        "        print('Actual Class ', y_pred[i])\n",
        "        print('Predicted Class', test_label_array[i])"
      ]
    }
  ],
  "metadata": {
    "accelerator": "GPU",
    "colab": {
      "gpuType": "T4",
      "provenance": [],
      "authorship_tag": "ABX9TyMaaNydvbAQEy9skTAnPlfZ",
      "include_colab_link": true
    },
    "kernelspec": {
      "display_name": "Python 3",
      "name": "python3"
    },
    "language_info": {
      "name": "python"
    }
  },
  "nbformat": 4,
  "nbformat_minor": 0
}